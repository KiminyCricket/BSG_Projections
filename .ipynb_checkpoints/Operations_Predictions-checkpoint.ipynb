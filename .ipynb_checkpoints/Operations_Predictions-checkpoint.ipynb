{
 "cells": [
  {
   "cell_type": "markdown",
   "metadata": {},
   "source": [
    "# Predicting Operations: S/Q, Manufacturer Rebate, Models, Delivery Time, Free Internet Shipping\n",
    "* By market: S/Q, Manufacturer Rebate, and Delivery time\n",
    "* All Markets: Models, Free Internet Shipping"
   ]
  },
  {
   "cell_type": "code",
   "execution_count": 1,
   "metadata": {},
   "outputs": [
    {
     "data": {
      "text/html": [
       "<div>\n",
       "<style scoped>\n",
       "    .dataframe tbody tr th:only-of-type {\n",
       "        vertical-align: middle;\n",
       "    }\n",
       "\n",
       "    .dataframe tbody tr th {\n",
       "        vertical-align: top;\n",
       "    }\n",
       "\n",
       "    .dataframe thead th {\n",
       "        text-align: right;\n",
       "    }\n",
       "</style>\n",
       "<table border=\"1\" class=\"dataframe\">\n",
       "  <thead>\n",
       "    <tr style=\"text-align: right;\">\n",
       "      <th></th>\n",
       "      <th>ID</th>\n",
       "      <th>YEAR</th>\n",
       "      <th>NA_SQ</th>\n",
       "      <th>NA_MODELS</th>\n",
       "      <th>NA_REBATE</th>\n",
       "      <th>NA_DELIVERY_TIME</th>\n",
       "      <th>NA_SHIPPING</th>\n",
       "      <th>EU_SQ</th>\n",
       "      <th>EU_MODELS</th>\n",
       "      <th>EU_REBATE</th>\n",
       "      <th>...</th>\n",
       "      <th>AP_SQ</th>\n",
       "      <th>AP_MODELS</th>\n",
       "      <th>AP_REBATE</th>\n",
       "      <th>AP_DELIVERY_TIME</th>\n",
       "      <th>AP_SHIPPING</th>\n",
       "      <th>LA_SQ</th>\n",
       "      <th>LA_MODELS</th>\n",
       "      <th>LA_REBATE</th>\n",
       "      <th>LA_DELIVERY_TIME</th>\n",
       "      <th>LA_SHIPPING</th>\n",
       "    </tr>\n",
       "  </thead>\n",
       "  <tbody>\n",
       "    <tr>\n",
       "      <th>0</th>\n",
       "      <td>0</td>\n",
       "      <td>10</td>\n",
       "      <td>4.0</td>\n",
       "      <td>200</td>\n",
       "      <td>5.0</td>\n",
       "      <td>3.0</td>\n",
       "      <td>0</td>\n",
       "      <td>4.0</td>\n",
       "      <td>200</td>\n",
       "      <td>5.0</td>\n",
       "      <td>...</td>\n",
       "      <td>4.0</td>\n",
       "      <td>200</td>\n",
       "      <td>5.0</td>\n",
       "      <td>3.0</td>\n",
       "      <td>0</td>\n",
       "      <td>4.0</td>\n",
       "      <td>200</td>\n",
       "      <td>5.0</td>\n",
       "      <td>3.0</td>\n",
       "      <td>0</td>\n",
       "    </tr>\n",
       "    <tr>\n",
       "      <th>1</th>\n",
       "      <td>1</td>\n",
       "      <td>11</td>\n",
       "      <td>6.2</td>\n",
       "      <td>262</td>\n",
       "      <td>4.7</td>\n",
       "      <td>2.5</td>\n",
       "      <td>1</td>\n",
       "      <td>6.1</td>\n",
       "      <td>250</td>\n",
       "      <td>4.6</td>\n",
       "      <td>...</td>\n",
       "      <td>6.0</td>\n",
       "      <td>245</td>\n",
       "      <td>5.3</td>\n",
       "      <td>2.7</td>\n",
       "      <td>1</td>\n",
       "      <td>6.0</td>\n",
       "      <td>245</td>\n",
       "      <td>5.3</td>\n",
       "      <td>2.8</td>\n",
       "      <td>0</td>\n",
       "    </tr>\n",
       "    <tr>\n",
       "      <th>2</th>\n",
       "      <td>2</td>\n",
       "      <td>12</td>\n",
       "      <td>6.6</td>\n",
       "      <td>331</td>\n",
       "      <td>4.5</td>\n",
       "      <td>2.3</td>\n",
       "      <td>1</td>\n",
       "      <td>6.5</td>\n",
       "      <td>319</td>\n",
       "      <td>4.5</td>\n",
       "      <td>...</td>\n",
       "      <td>6.4</td>\n",
       "      <td>335</td>\n",
       "      <td>4.9</td>\n",
       "      <td>2.5</td>\n",
       "      <td>1</td>\n",
       "      <td>6.2</td>\n",
       "      <td>313</td>\n",
       "      <td>4.7</td>\n",
       "      <td>2.5</td>\n",
       "      <td>1</td>\n",
       "    </tr>\n",
       "    <tr>\n",
       "      <th>3</th>\n",
       "      <td>3</td>\n",
       "      <td>13</td>\n",
       "      <td>6.7</td>\n",
       "      <td>354</td>\n",
       "      <td>4.5</td>\n",
       "      <td>2.3</td>\n",
       "      <td>2</td>\n",
       "      <td>6.6</td>\n",
       "      <td>316</td>\n",
       "      <td>3.7</td>\n",
       "      <td>...</td>\n",
       "      <td>6.3</td>\n",
       "      <td>321</td>\n",
       "      <td>4.9</td>\n",
       "      <td>2.3</td>\n",
       "      <td>2</td>\n",
       "      <td>6.1</td>\n",
       "      <td>284</td>\n",
       "      <td>4.2</td>\n",
       "      <td>2.8</td>\n",
       "      <td>1</td>\n",
       "    </tr>\n",
       "  </tbody>\n",
       "</table>\n",
       "<p>4 rows × 22 columns</p>\n",
       "</div>"
      ],
      "text/plain": [
       "   ID  YEAR  NA_SQ  NA_MODELS  NA_REBATE  NA_DELIVERY_TIME  NA_SHIPPING  \\\n",
       "0   0    10    4.0        200        5.0               3.0            0   \n",
       "1   1    11    6.2        262        4.7               2.5            1   \n",
       "2   2    12    6.6        331        4.5               2.3            1   \n",
       "3   3    13    6.7        354        4.5               2.3            2   \n",
       "\n",
       "   EU_SQ  EU_MODELS  EU_REBATE     ...       AP_SQ  AP_MODELS  AP_REBATE  \\\n",
       "0    4.0        200        5.0     ...         4.0        200        5.0   \n",
       "1    6.1        250        4.6     ...         6.0        245        5.3   \n",
       "2    6.5        319        4.5     ...         6.4        335        4.9   \n",
       "3    6.6        316        3.7     ...         6.3        321        4.9   \n",
       "\n",
       "   AP_DELIVERY_TIME  AP_SHIPPING  LA_SQ  LA_MODELS  LA_REBATE  \\\n",
       "0               3.0            0    4.0        200        5.0   \n",
       "1               2.7            1    6.0        245        5.3   \n",
       "2               2.5            1    6.2        313        4.7   \n",
       "3               2.3            2    6.1        284        4.2   \n",
       "\n",
       "   LA_DELIVERY_TIME  LA_SHIPPING  \n",
       "0               3.0            0  \n",
       "1               2.8            0  \n",
       "2               2.5            1  \n",
       "3               2.8            1  \n",
       "\n",
       "[4 rows x 22 columns]"
      ]
     },
     "execution_count": 1,
     "metadata": {},
     "output_type": "execute_result"
    }
   ],
   "source": [
    "#let's grab a few packages for stats\n",
    "import matplotlib.pyplot as plt\n",
    "import numpy as np\n",
    "import pandas as pd\n",
    "\n",
    "#Let's set some variables that we'll change each round\n",
    "#Change this year to the year being predicted (i.e. if you're predicting year 16, enter '16')\n",
    "predictionYear = 14 \n",
    "\n",
    "#Load the dataset from our bsg_prices_actual - Sheet1.csv\n",
    "df = pd.read_csv('bsg_operations_actual - Sheet1.csv')\n",
    "df"
   ]
  },
  {
   "cell_type": "markdown",
   "metadata": {},
   "source": [
    "## Functions\n",
    "1. Slope Intercept\n",
    "2. Print Slope as Formula\n",
    "3. Hypothetical Slope and Intercept from our data\n",
    "4. Print the Predicted Year using Hypothetical Slope and Intercept"
   ]
  },
  {
   "cell_type": "code",
   "execution_count": 2,
   "metadata": {},
   "outputs": [],
   "source": [
    "#1. Slope Intercept Function\n",
    "#Function to find the slope intercept of a first degree polynomial\n",
    "def getSlope(x,y): #pass in the x value, y value, and a string for printing\n",
    "    slope, intercept = np.polyfit(x,y,1).round(decimals = 4) #compute the slope\n",
    "    return slope, intercept\n",
    "\n",
    "#2. Print Slope as Formulas\n",
    "#Function to print the slope\n",
    "def printSlope(x,y,string):\n",
    "    slope, intercept = np.polyfit(x,y,1).round(decimals = 4)\n",
    "    printed_string = string + '= ' + str(slope) + 'x + ' + str(intercept)\n",
    "    return printed_string \n",
    "\n",
    "#3. Hypothetical Slope and Intercept from our data\n",
    "x_theor = np.array([10,predictionYear]) #set x_theor as it will be used in all our Linear Models\n",
    "def getYTheor(slope, x_theor, intercept): #pass in the slope, x_theor, and intercept\n",
    "    y_theor = slope * x_theor + intercept\n",
    "    return y_theor\n",
    "\n",
    "#4. Print Predicted Year using Hypothetical Slope and Intercept\n",
    "def printPrediction(slope, intercept, string): \n",
    "    prediction = 'Year ' + str(predictionYear) + ' ' + string +' predicted: ' + str(slope * predictionYear + intercept)\n",
    "    return prediction"
   ]
  },
  {
   "cell_type": "markdown",
   "metadata": {},
   "source": [
    "## Find The Slope Intercept for each segment\n",
    "Let's start off with some simple Linear Regressions using Least Squares"
   ]
  },
  {
   "cell_type": "code",
   "execution_count": 3,
   "metadata": {
    "scrolled": true
   },
   "outputs": [
    {
     "name": "stdout",
     "output_type": "stream",
     "text": [
      "NA SQ= 0.85x + -3.9\n",
      "NA Number of Models= 53.1x + -323.9\n",
      "NA Manufacturer Rebate= -0.17x + 6.63\n",
      "NA Delivery Time= -0.23x + 5.17\n",
      "NA Free Internet Shipping= 0.6x + -5.9\n",
      "EU SQ= 0.82x + -3.63\n",
      "EU Number of Models= 41.7x + -208.3\n",
      "EU Manufacturer Rebate= -0.4x + 9.05\n",
      "EU Delivery Time= -0.2x + 4.95\n",
      "EU Free Internet Shipping= 0.6x + -5.9\n",
      "AP SQ= 0.73x + -2.72\n",
      "AP Number of Models= 45.3x + -245.7\n",
      "AP Manufacturer Rebate= -0.07x + 5.83\n",
      "AP Delivery Time= -0.23x + 5.27\n",
      "AP Free Internet Shipping= 0.6x + -5.9\n",
      "LA SQ= 0.65x + -1.9\n",
      "LA Number of Models= 32.0x + -107.5\n",
      "LA Manufacturer Rebate= -0.3x + 8.25\n",
      "LA Delivery Time= -0.09x + 3.81\n",
      "LA Free Internet Shipping= 0.4x + -4.1\n"
     ]
    }
   ],
   "source": [
    "# variable assignments\n",
    "x = np.array(df['YEAR'])\n",
    "y_na_sq = np.array(df['NA_SQ'])\n",
    "y_na_models = np.array(df['NA_MODELS'])\n",
    "y_na_rebate = np.array(df['NA_REBATE'])\n",
    "y_na_delivery = np.array(df['NA_DELIVERY_TIME'])\n",
    "y_na_shipping = np.array(df['NA_SHIPPING'])\n",
    "y_eu_sq = np.array(df['EU_SQ'])\n",
    "y_eu_models = np.array(df['EU_MODELS'])\n",
    "y_eu_rebate = np.array(df['EU_REBATE'])\n",
    "y_eu_delivery = np.array(df['EU_DELIVERY_TIME'])\n",
    "y_eu_shipping = np.array(df['EU_SHIPPING'])\n",
    "y_ap_sq = np.array(df['AP_SQ'])\n",
    "y_ap_models = np.array(df['AP_MODELS'])\n",
    "y_ap_rebate = np.array(df['AP_REBATE'])\n",
    "y_ap_delivery = np.array(df['AP_DELIVERY_TIME'])\n",
    "y_ap_shipping = np.array(df['AP_SHIPPING'])\n",
    "y_la_sq = np.array(df['LA_SQ'])\n",
    "y_la_models = np.array(df['LA_MODELS'])\n",
    "y_la_rebate = np.array(df['LA_REBATE'])\n",
    "y_la_delivery = np.array(df['LA_DELIVERY_TIME'])\n",
    "y_la_shipping = np.array(df['LA_SHIPPING'])\n",
    "\n",
    "#print the slope in y=mx+b form\n",
    "print(printSlope(x,y_na_sq,'NA SQ'))\n",
    "print(printSlope(x,y_na_models,'NA Number of Models'))\n",
    "print(printSlope(x,y_na_rebate,'NA Manufacturer Rebate'))\n",
    "print(printSlope(x,y_na_delivery,'NA Delivery Time'))\n",
    "print(printSlope(x,y_na_shipping,'NA Free Internet Shipping'))\n",
    "print(printSlope(x,y_eu_sq,'EU SQ'))\n",
    "print(printSlope(x,y_eu_models,'EU Number of Models'))\n",
    "print(printSlope(x,y_eu_rebate,'EU Manufacturer Rebate'))\n",
    "print(printSlope(x,y_eu_delivery,'EU Delivery Time'))\n",
    "print(printSlope(x,y_eu_shipping,'EU Free Internet Shipping'))\n",
    "print(printSlope(x,y_ap_sq,'AP SQ'))\n",
    "print(printSlope(x,y_ap_models,'AP Number of Models'))\n",
    "print(printSlope(x,y_ap_rebate,'AP Manufacturer Rebate'))\n",
    "print(printSlope(x,y_ap_delivery,'AP Delivery Time'))\n",
    "print(printSlope(x,y_ap_shipping,'AP Free Internet Shipping'))\n",
    "print(printSlope(x,y_la_sq,'LA SQ'))\n",
    "print(printSlope(x,y_la_models,'LA Number of Models'))\n",
    "print(printSlope(x,y_la_rebate,'LA Manufacturer Rebate'))\n",
    "print(printSlope(x,y_la_delivery,'LA Delivery Time'))\n",
    "print(printSlope(x,y_la_shipping,'LA Free Internet Shipping'))"
   ]
  },
  {
   "cell_type": "markdown",
   "metadata": {},
   "source": [
    "### North America S/Q, Manufacturer Rebate, and Delivery Time\n",
    "* S/Q: Standards and Quality between 0 and 10\n",
    "* Manufacturer Rebate: 3 to 15 dollars per pair\n",
    "* Delivery Time: 1 to 4 weeks"
   ]
  },
  {
   "cell_type": "code",
   "execution_count": 4,
   "metadata": {},
   "outputs": [
    {
     "name": "stdout",
     "output_type": "stream",
     "text": [
      "Year 14 S/Q predicted: 8.0\n",
      "Year 14 Manufacturer Rebate predicted: 4.25\n",
      "Year 14 Delivery Time predicted: 1.9499999999999997\n"
     ]
    },
    {
     "data": {
      "image/png": "[encoded data removed]",
      "text/plain": [
       "<Figure size 432x288 with 1 Axes>"
      ]
     },
     "metadata": {},
     "output_type": "display_data"
    }
   ],
   "source": [
    "#grab the slope and intercepts for NA \n",
    "na_sq_slope, na_sq_intercept = getSlope(x,y_na_sq)\n",
    "na_rebate_slope,na_rebate_intercept = getSlope(x,y_na_rebate)\n",
    "na_delivery_slope, na_delivery_intercept = getSlope(x,y_na_delivery)\n",
    "\n",
    "#set the y theoretical for NA\n",
    "sq_y_theor = getYTheor(na_sq_slope, x_theor, na_sq_intercept)\n",
    "rebate_y_theor = getYTheor(na_rebate_slope,x_theor,na_rebate_intercept)\n",
    "delivery_y_theor = getYTheor(na_delivery_slope, x_theor, na_delivery_intercept)\n",
    "\n",
    "#print the predicted price\n",
    "print(printPrediction(na_sq_slope, na_sq_intercept, 'S/Q'))\n",
    "print(printPrediction(na_rebate_slope, na_rebate_intercept, 'Manufacturer Rebate'))\n",
    "print(printPrediction(na_delivery_slope, na_delivery_intercept, 'Delivery Time'))\n",
    "\n",
    "#plot the anscombe data and theoretical lines\n",
    "_ = plt.plot(x,y_na_sq,marker='.', linestyle='none')\n",
    "_ = plt.plot(x_theor,sq_y_theor)\n",
    "_ = plt.plot(x,y_na_rebate,marker='.', linestyle='none')\n",
    "_ = plt.plot(x_theor,rebate_y_theor)\n",
    "_ = plt.plot(x,y_na_delivery,marker='.', linestyle='none')\n",
    "_ = plt.plot(x_theor,delivery_y_theor)\n",
    "\n",
    "#label the axes\n",
    "plt.xlabel('Year')\n",
    "plt.ylabel('Operating Benchmarks')\n",
    "plt.title('North America')\n",
    "plt.show()"
   ]
  },
  {
   "cell_type": "markdown",
   "metadata": {},
   "source": [
    "### Europe Africa S/Q, Manufacturer Rebate, and Delivery Time\n",
    "* S/Q: Standards and Quality between 0 and 10\n",
    "* Manufacturer Rebate: 3 to 15 dollars per pair\n",
    "* Delivery Time: 1 to 4 weeks"
   ]
  },
  {
   "cell_type": "code",
   "execution_count": 5,
   "metadata": {},
   "outputs": [
    {
     "name": "stdout",
     "output_type": "stream",
     "text": [
      "Year 14 S/Q predicted: 7.849999999999999\n",
      "Year 14 Manufacturer Rebate predicted: 3.45\n",
      "Year 14 Delivery Time predicted: 2.15\n"
     ]
    },
    {
     "data": {
      "image/png": "[encoded data removed]",
      "text/plain": [
       "<Figure size 432x288 with 1 Axes>"
      ]
     },
     "metadata": {},
     "output_type": "display_data"
    }
   ],
   "source": [
    "#grab the slope and intercepts for EU \n",
    "eu_sq_slope, eu_sq_intercept = getSlope(x,y_eu_sq)\n",
    "eu_rebate_slope,eu_rebate_intercept = getSlope(x,y_eu_rebate)\n",
    "eu_delivery_slope, eu_delivery_intercept = getSlope(x,y_eu_delivery)\n",
    "\n",
    "#set the y theoretical for EU\n",
    "sq_y_theor = getYTheor(eu_sq_slope, x_theor, eu_sq_intercept)\n",
    "rebate_y_theor = getYTheor(eu_rebate_slope,x_theor,eu_rebate_intercept)\n",
    "delivery_y_theor = getYTheor(eu_delivery_slope, x_theor, eu_delivery_intercept)\n",
    "\n",
    "#print the predicted price\n",
    "print(printPrediction(eu_sq_slope, eu_sq_intercept, 'S/Q'))\n",
    "print(printPrediction(eu_rebate_slope, eu_rebate_intercept, 'Manufacturer Rebate'))\n",
    "print(printPrediction(eu_delivery_slope, eu_delivery_intercept, 'Delivery Time'))\n",
    "\n",
    "#plot the anscombe data and theoretical lines\n",
    "_ = plt.plot(x,y_eu_sq,marker='.', linestyle='none')\n",
    "_ = plt.plot(x_theor,sq_y_theor)\n",
    "_ = plt.plot(x,y_eu_rebate,marker='.', linestyle='none')\n",
    "_ = plt.plot(x_theor,rebate_y_theor)\n",
    "_ = plt.plot(x,y_eu_delivery,marker='.', linestyle='none')\n",
    "_ = plt.plot(x_theor,delivery_y_theor)\n",
    "\n",
    "#label the axes\n",
    "plt.xlabel('Year')\n",
    "plt.ylabel('Operating Benchmarks')\n",
    "plt.title('Europe Africa')\n",
    "plt.show()"
   ]
  },
  {
   "cell_type": "markdown",
   "metadata": {},
   "source": [
    "### Asia Pacific S/Q, Manufacturer Rebate, and Delivery Time\n",
    "* S/Q: Standards and Quality between 0 and 10\n",
    "* Manufacturer Rebate: 3 to 15 dollars per pair\n",
    "* Delivery Time: 1 to 4 weeks"
   ]
  },
  {
   "cell_type": "code",
   "execution_count": 6,
   "metadata": {},
   "outputs": [
    {
     "name": "stdout",
     "output_type": "stream",
     "text": [
      "Year 14 S/Q predicted: 7.499999999999998\n",
      "Year 14 Manufacturer Rebate predicted: 4.85\n",
      "Year 14 Delivery Time predicted: 2.0499999999999994\n"
     ]
    },
    {
     "data": {
      "image/png": "[encoded data removed]",
      "text/plain": [
       "<Figure size 432x288 with 1 Axes>"
      ]
     },
     "metadata": {},
     "output_type": "display_data"
    }
   ],
   "source": [
    "#grab the slope and intercepts for AP \n",
    "ap_sq_slope, ap_sq_intercept = getSlope(x,y_ap_sq)\n",
    "ap_rebate_slope,ap_rebate_intercept = getSlope(x,y_ap_rebate)\n",
    "ap_delivery_slope, ap_delivery_intercept = getSlope(x,y_ap_delivery)\n",
    "\n",
    "#set the y theoretical for AP\n",
    "sq_y_theor = getYTheor(ap_sq_slope, x_theor, ap_sq_intercept)\n",
    "rebate_y_theor = getYTheor(ap_rebate_slope,x_theor,ap_rebate_intercept)\n",
    "delivery_y_theor = getYTheor(ap_delivery_slope, x_theor, ap_delivery_intercept)\n",
    "\n",
    "#print the predicted price\n",
    "print(printPrediction(ap_sq_slope, ap_sq_intercept, 'S/Q'))\n",
    "print(printPrediction(ap_rebate_slope, ap_rebate_intercept, 'Manufacturer Rebate'))\n",
    "print(printPrediction(ap_delivery_slope, ap_delivery_intercept, 'Delivery Time'))\n",
    "\n",
    "#plot the anscombe data and theoretical lines\n",
    "_ = plt.plot(x,y_ap_sq,marker='.', linestyle='none')\n",
    "_ = plt.plot(x_theor,sq_y_theor)\n",
    "_ = plt.plot(x,y_ap_rebate,marker='.', linestyle='none')\n",
    "_ = plt.plot(x_theor,rebate_y_theor)\n",
    "_ = plt.plot(x,y_ap_delivery,marker='.', linestyle='none')\n",
    "_ = plt.plot(x_theor,delivery_y_theor)\n",
    "\n",
    "#label the axes\n",
    "plt.xlabel('Year')\n",
    "plt.ylabel('Operating Benchmarks')\n",
    "plt.title('Asia Pacific')\n",
    "plt.show()"
   ]
  },
  {
   "cell_type": "markdown",
   "metadata": {},
   "source": [
    "### Latin America S/Q, Manufacturer Rebate, and Delivery Time\n",
    "* S/Q: Standards and Quality between 0 and 10\n",
    "* Manufacturer Rebate: 3 to 15 dollars per pair\n",
    "* Delivery Time: 1 to 4 weeks"
   ]
  },
  {
   "cell_type": "code",
   "execution_count": 7,
   "metadata": {},
   "outputs": [
    {
     "name": "stdout",
     "output_type": "stream",
     "text": [
      "Year 14 S/Q predicted: 7.199999999999999\n",
      "Year 14 Manufacturer Rebate predicted: 4.05\n",
      "Year 14 Delivery Time predicted: 2.55\n"
     ]
    },
    {
     "data": {
      "image/png": "[encoded data removed]",
      "text/plain": [
       "<Figure size 432x288 with 1 Axes>"
      ]
     },
     "metadata": {},
     "output_type": "display_data"
    }
   ],
   "source": [
    "#grab the slope and intercepts for LA \n",
    "la_sq_slope, la_sq_intercept = getSlope(x,y_la_sq)\n",
    "la_rebate_slope,la_rebate_intercept = getSlope(x,y_la_rebate)\n",
    "la_delivery_slope, la_delivery_intercept = getSlope(x,y_la_delivery)\n",
    "\n",
    "#set the y theoretical for LA\n",
    "sq_y_theor = getYTheor(la_sq_slope, x_theor, la_sq_intercept)\n",
    "rebate_y_theor = getYTheor(la_rebate_slope,x_theor,la_rebate_intercept)\n",
    "delivery_y_theor = getYTheor(la_delivery_slope, x_theor,la_delivery_intercept)\n",
    "\n",
    "#print the predicted price\n",
    "print(printPrediction(la_sq_slope, la_sq_intercept, 'S/Q'))\n",
    "print(printPrediction(la_rebate_slope, la_rebate_intercept, 'Manufacturer Rebate'))\n",
    "print(printPrediction(la_delivery_slope, la_delivery_intercept, 'Delivery Time'))\n",
    "\n",
    "#plot the anscombe data and theoretical lines\n",
    "_ = plt.plot(x,y_la_sq,marker='.', linestyle='none')\n",
    "_ = plt.plot(x_theor,sq_y_theor)\n",
    "_ = plt.plot(x,y_la_rebate,marker='.', linestyle='none')\n",
    "_ = plt.plot(x_theor,rebate_y_theor)\n",
    "_ = plt.plot(x,y_la_delivery,marker='.', linestyle='none')\n",
    "_ = plt.plot(x_theor,delivery_y_theor)\n",
    "\n",
    "#label the axes\n",
    "plt.xlabel('Year')\n",
    "plt.ylabel('Operating Benchmarks')\n",
    "plt.title('Latin America')\n",
    "plt.show()"
   ]
  },
  {
   "cell_type": "markdown",
   "metadata": {},
   "source": [
    "### Free Internet Shipping Offer\n",
    "* Predicting the Industry Average for Free Internet Shipping to Customers\n",
    "\n",
    "Integer | Meaning | Notes\n",
    "--- | --- | ---|\n",
    "0 | None | No firm is offering free shipping\n",
    "1 | Few | A few firms offer free shipping\n",
    "2 | Some | Some firms offer free shipping\n",
    "3 | Most | Most firms offer free shipping\n",
    "4 | All | All firms offer free shipping"
   ]
  },
  {
   "cell_type": "code",
   "execution_count": 8,
   "metadata": {},
   "outputs": [
    {
     "name": "stdout",
     "output_type": "stream",
     "text": [
      "Year 14 North Americal Shipping predicted: 2.5\n",
      "Year 14 Europe Africa Shipping predicted: 2.5\n",
      "Year 14 Asia Pacific Shipping predicted: 2.5\n",
      "Year 14 Latin America Shipping predicted: 1.5000000000000009\n"
     ]
    },
    {
     "data": {
      "image/png": "[encoded data removed]",
      "text/plain": [
       "<Figure size 432x288 with 1 Axes>"
      ]
     },
     "metadata": {},
     "output_type": "display_data"
    }
   ],
   "source": [
    "#grab the slope and intercepts for all markets\n",
    "na_shipping_slope, na_shipping_intercept = getSlope(x,y_na_shipping)\n",
    "eu_shipping_slope, eu_shipping_intercept = getSlope(x,y_eu_shipping)\n",
    "ap_shipping_slope, ap_shipping_intercept = getSlope(x,y_ap_shipping)\n",
    "la_shipping_slope, la_shipping_intercept = getSlope(x,y_la_shipping)\n",
    "\n",
    "#set the y theoretical for all markets\n",
    "naShipping_y_theor = getYTheor(na_shipping_slope, x_theor, na_shipping_intercept)\n",
    "euShipping_y_theor = getYTheor(eu_shipping_slope, x_theor, eu_shipping_intercept)\n",
    "apShipping_y_theor = getYTheor(ap_shipping_slope, x_theor, ap_shipping_intercept)\n",
    "laShipping_y_theor = getYTheor(la_shipping_slope, x_theor, la_shipping_intercept)\n",
    "\n",
    "#print the predicted price\n",
    "print(printPrediction(na_shipping_slope, na_shipping_intercept, 'North Americal Shipping'))\n",
    "print(printPrediction(eu_shipping_slope, eu_shipping_intercept, 'Europe Africa Shipping'))\n",
    "print(printPrediction(ap_shipping_slope, ap_shipping_intercept, 'Asia Pacific Shipping'))\n",
    "print(printPrediction(la_shipping_slope, la_shipping_intercept, 'Latin America Shipping'))\n",
    "\n",
    "#plot the anscombe data and theoretical lines\n",
    "_ = plt.plot(x,y_na_shipping,marker='.', linestyle='none')\n",
    "_ = plt.plot(x_theor,naShipping_y_theor, label = 'NA')\n",
    "_ = plt.plot(x,y_eu_shipping,marker='.', linestyle='none')\n",
    "_ = plt.plot(x_theor,euShipping_y_theor, label='EU')\n",
    "_ = plt.plot(x,y_ap_shipping,marker='.', linestyle='none')\n",
    "_ = plt.plot(x_theor,apShipping_y_theor, label='AP')\n",
    "_ = plt.plot(x,y_la_shipping,marker='.', linestyle='none')\n",
    "_ = plt.plot(x_theor,laShipping_y_theor, label='LA')\n",
    "\n",
    "#label the axes\n",
    "plt.legend(loc='upper left')\n",
    "plt.xlabel('Year')\n",
    "plt.ylabel('Internet Free Shipping')\n",
    "plt.title('All Markets')\n",
    "plt.show()"
   ]
  },
  {
   "cell_type": "markdown",
   "metadata": {},
   "source": [
    "### Model Availability: All Segments\n",
    "* Number of Models: 50 to 500 models"
   ]
  },
  {
   "cell_type": "code",
   "execution_count": 9,
   "metadata": {},
   "outputs": [
    {
     "name": "stdout",
     "output_type": "stream",
     "text": [
      "Year 14 North Americal Models predicted: 419.5\n",
      "Year 14 Europe Africa Models predicted: 375.50000000000006\n",
      "Year 14 Asia Pacific Models predicted: 388.49999999999994\n",
      "Year 14 Latin America Models predicted: 340.5\n"
     ]
    },
    {
     "data": {
      "image/png": "[encoded data removed]",
      "text/plain": [
       "<Figure size 432x288 with 1 Axes>"
      ]
     },
     "metadata": {},
     "output_type": "display_data"
    }
   ],
   "source": [
    "#grab the slope and intercepts for all markets\n",
    "na_models_slope, na_models_intercept = getSlope(x,y_na_models)\n",
    "eu_models_slope, eu_models_intercept = getSlope(x,y_eu_models)\n",
    "ap_models_slope, ap_models_intercept = getSlope(x,y_ap_models)\n",
    "la_models_slope, la_models_intercept = getSlope(x,y_la_models)\n",
    "\n",
    "#set the y theoretical for all markets\n",
    "naModels_y_theor = getYTheor(na_models_slope, x_theor, na_models_intercept)\n",
    "euModels_y_theor = getYTheor(eu_models_slope, x_theor, eu_models_intercept)\n",
    "apModels_y_theor = getYTheor(ap_models_slope, x_theor, ap_models_intercept)\n",
    "laModels_y_theor = getYTheor(la_models_slope, x_theor, la_models_intercept)\n",
    "\n",
    "#print the predicted price\n",
    "print(printPrediction(na_models_slope, na_models_intercept, 'North Americal Models'))\n",
    "print(printPrediction(eu_models_slope, eu_models_intercept, 'Europe Africa Models'))\n",
    "print(printPrediction(ap_models_slope, ap_models_intercept, 'Asia Pacific Models'))\n",
    "print(printPrediction(la_models_slope, la_models_intercept, 'Latin America Models'))\n",
    "\n",
    "#plot the anscombe data and theoretical lines\n",
    "_ = plt.plot(x,y_na_models,marker='.', linestyle='none')\n",
    "_ = plt.plot(x_theor,naModels_y_theor, label = 'NA')\n",
    "_ = plt.plot(x,y_eu_models,marker='.', linestyle='none')\n",
    "_ = plt.plot(x_theor,euModels_y_theor, label='EU')\n",
    "_ = plt.plot(x,y_ap_models,marker='.', linestyle='none')\n",
    "_ = plt.plot(x_theor,apModels_y_theor, label='AP')\n",
    "_ = plt.plot(x,y_la_models,marker='.', linestyle='none')\n",
    "_ = plt.plot(x_theor,laModels_y_theor, label='LA')\n",
    "\n",
    "#label the axes\n",
    "plt.legend(loc='upper left')\n",
    "plt.xlabel('Year')\n",
    "plt.ylabel('Number of Models')\n",
    "plt.title('All Markets')\n",
    "plt.show()"
   ]
  },
  {
   "cell_type": "code",
   "execution_count": null,
   "metadata": {},
   "outputs": [],
   "source": []
  },
  {
   "cell_type": "code",
   "execution_count": null,
   "metadata": {},
   "outputs": [],
   "source": []
  }
 ],
 "metadata": {
  "kernelspec": {
   "display_name": "Python 3",
   "language": "python",
   "name": "python3"
  },
  "language_info": {
   "codemirror_mode": {
    "name": "ipython",
    "version": 3
   },
   "file_extension": ".py",
   "mimetype": "text/x-python",
   "name": "python",
   "nbconvert_exporter": "python",
   "pygments_lexer": "ipython3",
   "version": "3.6.5"
  }
 },
 "nbformat": 4,
 "nbformat_minor": 2
}
