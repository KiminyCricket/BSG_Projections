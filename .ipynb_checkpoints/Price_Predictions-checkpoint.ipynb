{
 "cells": [
  {
   "cell_type": "markdown",
   "metadata": {},
   "source": [
    "# Predicting Price for Wholesale and Internet segments\n",
    "First thing we need to do is predict the average prices in the wholesale and internet segments for North America, Europe Africa, Asia Pacific, and Latin America.\n",
    "\n",
    "This helps us make more accurate decisions in BSG and identify if we'll hit the shareholder expectations for the period."
   ]
  },
  {
   "cell_type": "code",
   "execution_count": 5,
   "metadata": {},
   "outputs": [
    {
     "data": {
      "text/html": [
       "<div>\n",
       "<style scoped>\n",
       "    .dataframe tbody tr th:only-of-type {\n",
       "        vertical-align: middle;\n",
       "    }\n",
       "\n",
       "    .dataframe tbody tr th {\n",
       "        vertical-align: top;\n",
       "    }\n",
       "\n",
       "    .dataframe thead th {\n",
       "        text-align: right;\n",
       "    }\n",
       "</style>\n",
       "<table border=\"1\" class=\"dataframe\">\n",
       "  <thead>\n",
       "    <tr style=\"text-align: right;\">\n",
       "      <th></th>\n",
       "      <th>ID</th>\n",
       "      <th>YEAR</th>\n",
       "      <th>NA_PRICE_INTERNET_INDUSTRY_AVERAGE</th>\n",
       "      <th>NA_PRICE_WHOLESALE_INDUSTRY_AVERAGE</th>\n",
       "      <th>EU_PRICE_INTERNET_INDUSTRY_AVERAGE</th>\n",
       "      <th>EU_PRICE_WHOLESALE_INDUSTRY_AVERAGE</th>\n",
       "      <th>AP_PRICE_INTERNET_INDUSTRY_AVERAGE</th>\n",
       "      <th>AP_PRICE_WHOLESALE_INDUSTRY_AVERAGE</th>\n",
       "      <th>LA_PRICE_INTERNET_INDUSTRY_AVERAGE</th>\n",
       "      <th>LA_PRICE_WHOLESALE_INDUSTRY_AVERAGE</th>\n",
       "    </tr>\n",
       "  </thead>\n",
       "  <tbody>\n",
       "    <tr>\n",
       "      <th>0</th>\n",
       "      <td>4</td>\n",
       "      <td>14</td>\n",
       "      <td>88.14</td>\n",
       "      <td>60.54</td>\n",
       "      <td>98.12</td>\n",
       "      <td>67.63</td>\n",
       "      <td>86.40</td>\n",
       "      <td>60.69</td>\n",
       "      <td>94.86</td>\n",
       "      <td>67.08</td>\n",
       "    </tr>\n",
       "    <tr>\n",
       "      <th>1</th>\n",
       "      <td>5</td>\n",
       "      <td>15</td>\n",
       "      <td>93.47</td>\n",
       "      <td>65.66</td>\n",
       "      <td>101.90</td>\n",
       "      <td>71.76</td>\n",
       "      <td>91.30</td>\n",
       "      <td>63.86</td>\n",
       "      <td>94.37</td>\n",
       "      <td>66.34</td>\n",
       "    </tr>\n",
       "    <tr>\n",
       "      <th>2</th>\n",
       "      <td>6</td>\n",
       "      <td>16</td>\n",
       "      <td>94.94</td>\n",
       "      <td>66.90</td>\n",
       "      <td>101.21</td>\n",
       "      <td>71.44</td>\n",
       "      <td>90.51</td>\n",
       "      <td>63.28</td>\n",
       "      <td>96.81</td>\n",
       "      <td>68.46</td>\n",
       "    </tr>\n",
       "    <tr>\n",
       "      <th>3</th>\n",
       "      <td>7</td>\n",
       "      <td>17</td>\n",
       "      <td>86.32</td>\n",
       "      <td>60.35</td>\n",
       "      <td>97.94</td>\n",
       "      <td>68.88</td>\n",
       "      <td>86.38</td>\n",
       "      <td>60.86</td>\n",
       "      <td>89.28</td>\n",
       "      <td>63.46</td>\n",
       "    </tr>\n",
       "  </tbody>\n",
       "</table>\n",
       "</div>"
      ],
      "text/plain": [
       "   ID  YEAR  NA_PRICE_INTERNET_INDUSTRY_AVERAGE  \\\n",
       "0   4    14                               88.14   \n",
       "1   5    15                               93.47   \n",
       "2   6    16                               94.94   \n",
       "3   7    17                               86.32   \n",
       "\n",
       "   NA_PRICE_WHOLESALE_INDUSTRY_AVERAGE  EU_PRICE_INTERNET_INDUSTRY_AVERAGE  \\\n",
       "0                                60.54                               98.12   \n",
       "1                                65.66                              101.90   \n",
       "2                                66.90                              101.21   \n",
       "3                                60.35                               97.94   \n",
       "\n",
       "   EU_PRICE_WHOLESALE_INDUSTRY_AVERAGE  AP_PRICE_INTERNET_INDUSTRY_AVERAGE  \\\n",
       "0                                67.63                               86.40   \n",
       "1                                71.76                               91.30   \n",
       "2                                71.44                               90.51   \n",
       "3                                68.88                               86.38   \n",
       "\n",
       "   AP_PRICE_WHOLESALE_INDUSTRY_AVERAGE  LA_PRICE_INTERNET_INDUSTRY_AVERAGE  \\\n",
       "0                                60.69                               94.86   \n",
       "1                                63.86                               94.37   \n",
       "2                                63.28                               96.81   \n",
       "3                                60.86                               89.28   \n",
       "\n",
       "   LA_PRICE_WHOLESALE_INDUSTRY_AVERAGE  \n",
       "0                                67.08  \n",
       "1                                66.34  \n",
       "2                                68.46  \n",
       "3                                63.46  "
      ]
     },
     "execution_count": 5,
     "metadata": {},
     "output_type": "execute_result"
    }
   ],
   "source": [
    "#let's grab a few packages for stats\n",
    "import matplotlib.pyplot as plt\n",
    "import numpy as np\n",
    "import pandas as pd\n",
    "\n",
    "#Let's set some variables that we'll change each round\n",
    "#Change this year to the year being predicted (i.e. if you're predicting year 16, enter '16')\n",
    "predictionYear = 18 \n",
    "\n",
    "#Load the dataset from our bsg_prices_actual - Sheet1.csv\n",
    "df = pd.read_csv('bsg_prices_actual - Sheet1.csv')\n",
    "df"
   ]
  },
  {
   "cell_type": "markdown",
   "metadata": {},
   "source": [
    "## Functions\n",
    "Here we'll create some functions for reuse:\n",
    "1. Slope Intercept\n",
    "2. Print Slope as Formula\n",
    "3. Hypothetical Slope and Intercept from our data\n",
    "4. Print the Predicted Year using Hypothetical Slope and Intercept"
   ]
  },
  {
   "cell_type": "code",
   "execution_count": 6,
   "metadata": {},
   "outputs": [],
   "source": [
    "#1. Slope Intercept Function\n",
    "#Function to find the slope intercept of a first degree polynomial\n",
    "def getSlope(x,y): #pass in the x value, y value, and a string for printing\n",
    "    slope, intercept = np.polyfit(x,y,1).round(decimals = 4) #compute the slope\n",
    "    return slope, intercept\n",
    "\n",
    "#2. Print Slope as Formulas\n",
    "#Function to print the slope\n",
    "def printSlope(x,y,string):\n",
    "    slope, intercept = np.polyfit(x,y,1).round(decimals = 4)\n",
    "    printed_string = string + '= ' + str(slope) + 'x + ' + str(intercept)\n",
    "    return printed_string \n",
    "\n",
    "#3. Hypothetical Slope and Intercept from our data\n",
    "x_theor = np.array([14,predictionYear]) #set x_theor as it will be used in all our Linear Models\n",
    "def getYTheor(slope, x_theor, intercept): #pass in the slope, x_theor, and intercept\n",
    "    y_theor = slope * x_theor + intercept\n",
    "    return y_theor\n",
    "\n",
    "#4. Print Predicted Year using Hypothetical Slope and Intercept\n",
    "def printPrediction(slope, intercept, string): \n",
    "    prediction = 'Year ' + str(predictionYear) + ' ' + string +' predicted price: ' + str(slope * predictionYear + intercept)\n",
    "    return prediction\n"
   ]
  },
  {
   "cell_type": "markdown",
   "metadata": {},
   "source": [
    "### Find Slope Intercept for each segment"
   ]
  },
  {
   "cell_type": "code",
   "execution_count": 7,
   "metadata": {},
   "outputs": [
    {
     "name": "stdout",
     "output_type": "stream",
     "text": [
      "NA Internet= -0.399x + 96.902\n",
      "NA Wholesale= 0.067x + 62.324\n",
      "EU Internet= -0.123x + 101.699\n",
      "EU Wholesale= 0.343x + 64.611\n",
      "AP Internet= -0.085x + 89.965\n",
      "AP Wholesale= -0.007x + 62.281\n",
      "LA Internet= -1.43x + 115.995\n",
      "LA Wholesale= -0.874x + 79.882\n"
     ]
    }
   ],
   "source": [
    "#variable assignments\n",
    "x = np.array(df['YEAR'])\n",
    "y_na_internet = np.array(df['NA_PRICE_INTERNET_INDUSTRY_AVERAGE'])\n",
    "y_na_wholesale = np.array(df['NA_PRICE_WHOLESALE_INDUSTRY_AVERAGE'])\n",
    "y_eu_internet = np.array(df['EU_PRICE_INTERNET_INDUSTRY_AVERAGE'])\n",
    "y_eu_wholesale = np.array(df['EU_PRICE_WHOLESALE_INDUSTRY_AVERAGE'])\n",
    "y_ap_internet = np.array(df['AP_PRICE_INTERNET_INDUSTRY_AVERAGE'])\n",
    "y_ap_wholesale = np.array(df['AP_PRICE_WHOLESALE_INDUSTRY_AVERAGE'])\n",
    "y_la_internet = np.array(df['LA_PRICE_INTERNET_INDUSTRY_AVERAGE'])\n",
    "y_la_wholesale = np.array(df['LA_PRICE_WHOLESALE_INDUSTRY_AVERAGE'])\n",
    "\n",
    "#print the slope in y=mx+b form\n",
    "print(printSlope(x,y_na_internet,'NA Internet'))\n",
    "print(printSlope(x,y_na_wholesale,'NA Wholesale'))\n",
    "print(printSlope(x,y_eu_internet,'EU Internet'))\n",
    "print(printSlope(x,y_eu_wholesale,'EU Wholesale'))\n",
    "print(printSlope(x,y_ap_internet,'AP Internet'))\n",
    "print(printSlope(x,y_ap_wholesale,'AP Wholesale'))\n",
    "print(printSlope(x,y_la_internet,'LA Internet'))\n",
    "print(printSlope(x,y_la_wholesale,'LA Wholesale'))"
   ]
  },
  {
   "cell_type": "markdown",
   "metadata": {},
   "source": [
    "## North America Internet and Wholesale Pricing\n",
    "This is in dollars per pair of shoes"
   ]
  },
  {
   "cell_type": "code",
   "execution_count": 8,
   "metadata": {},
   "outputs": [
    {
     "name": "stdout",
     "output_type": "stream",
     "text": [
      "Year 18 Internet predicted price: 89.72\n",
      "Year 18 Wholesale predicted price: 63.53\n"
     ]
    },
    {
     "data": {
      "image/png": "[encoded data removed]",
      "text/plain": [
       "<Figure size 432x288 with 1 Axes>"
      ]
     },
     "metadata": {},
     "output_type": "display_data"
    }
   ],
   "source": [
    "#grab the slope and intercepts for NA Internet and Wholesale segments\n",
    "na_internet_slope, na_internet_intercept = getSlope(x,y_na_internet)\n",
    "na_wholesale_slope,na_wholesale_intercept = getSlope(x,y_na_wholesale)\n",
    "\n",
    "#set the y theoretical for NA Internet and Wholesale\n",
    "internet_y_theor = getYTheor(na_internet_slope, x_theor, na_internet_intercept)\n",
    "wholesale_y_theor = getYTheor(na_wholesale_slope,x_theor,na_wholesale_intercept)\n",
    "\n",
    "#print the predicted price\n",
    "print(printPrediction(na_internet_slope, na_internet_intercept, 'Internet'))\n",
    "print(printPrediction(na_wholesale_slope, na_wholesale_intercept, 'Wholesale'))\n",
    "\n",
    "#plot the anscombe data and theoretical lines\n",
    "_ = plt.plot(x,y_na_internet,marker='.', linestyle='none')\n",
    "_ = plt.plot(x_theor,internet_y_theor)\n",
    "_ = plt.plot(x,y_na_wholesale,marker='.', linestyle='none')\n",
    "_ = plt.plot(x_theor,wholesale_y_theor)\n",
    "\n",
    "#label the axes\n",
    "plt.xlabel('Year')\n",
    "plt.ylabel('Price')\n",
    "plt.title('North America')\n",
    "plt.show()"
   ]
  },
  {
   "cell_type": "markdown",
   "metadata": {},
   "source": [
    "### Europe Africa Internet and Wholesale Pricing\n",
    "dollars per pair"
   ]
  },
  {
   "cell_type": "code",
   "execution_count": 9,
   "metadata": {},
   "outputs": [
    {
     "name": "stdout",
     "output_type": "stream",
     "text": [
      "Year 18 Internet predicted price: 99.485\n",
      "Year 18 Wholesale predicted price: 70.78500000000001\n"
     ]
    },
    {
     "data": {
      "image/png": "[encoded data removed]",
      "text/plain": [
       "<Figure size 432x288 with 1 Axes>"
      ]
     },
     "metadata": {},
     "output_type": "display_data"
    }
   ],
   "source": [
    "#grab the slope and intercepts for NA Internet and Wholesale segments\n",
    "eu_internet_slope, eu_internet_intercept = getSlope(x,y_eu_internet)\n",
    "eu_wholesale_slope,eu_wholesale_intercept = getSlope(x,y_eu_wholesale)\n",
    "\n",
    "#set the y theoretical for NA Internet and Wholesale\n",
    "internet_y_theor = getYTheor(eu_internet_slope, x_theor, eu_internet_intercept)\n",
    "wholesale_y_theor = getYTheor(eu_wholesale_slope,x_theor,eu_wholesale_intercept)\n",
    "\n",
    "#print the predicted price\n",
    "print(printPrediction(eu_internet_slope, eu_internet_intercept, 'Internet'))\n",
    "print(printPrediction(eu_wholesale_slope, eu_wholesale_intercept, 'Wholesale'))\n",
    "\n",
    "#plot the anscombe data and theoretical lines\n",
    "_ = plt.plot(x,y_eu_internet,marker='.', linestyle='none')\n",
    "_ = plt.plot(x_theor,internet_y_theor)\n",
    "_ = plt.plot(x,y_eu_wholesale,marker='.', linestyle='none')\n",
    "_ = plt.plot(x_theor,wholesale_y_theor)\n",
    "\n",
    "#label the axes\n",
    "plt.xlabel('Year')\n",
    "plt.ylabel('Price')\n",
    "plt.title('Europe Africa')\n",
    "plt.show()"
   ]
  },
  {
   "cell_type": "markdown",
   "metadata": {},
   "source": [
    "### Asia Pacific Internet and Wholesale Pricing\n",
    "dollars per pair"
   ]
  },
  {
   "cell_type": "code",
   "execution_count": 10,
   "metadata": {},
   "outputs": [
    {
     "name": "stdout",
     "output_type": "stream",
     "text": [
      "Year 18 Internet predicted price: 88.435\n",
      "Year 18 Wholesale predicted price: 62.155\n"
     ]
    },
    {
     "data": {
      "image/png": "[encoded data removed]",
      "text/plain": [
       "<Figure size 432x288 with 1 Axes>"
      ]
     },
     "metadata": {},
     "output_type": "display_data"
    }
   ],
   "source": [
    "#grab the slope and intercepts for NA Internet and Wholesale segments\n",
    "ap_internet_slope, ap_internet_intercept = getSlope(x,y_ap_internet)\n",
    "ap_wholesale_slope,ap_wholesale_intercept = getSlope(x,y_ap_wholesale)\n",
    "\n",
    "#set the y theoretical for NA Internet and Wholesale\n",
    "internet_y_theor = getYTheor(ap_internet_slope, x_theor, ap_internet_intercept)\n",
    "wholesale_y_theor = getYTheor(ap_wholesale_slope,x_theor,ap_wholesale_intercept)\n",
    "\n",
    "#print the predicted price\n",
    "print(printPrediction(ap_internet_slope, ap_internet_intercept, 'Internet'))\n",
    "print(printPrediction(ap_wholesale_slope, ap_wholesale_intercept, 'Wholesale'))\n",
    "\n",
    "#plot the anscombe data and theoretical lines\n",
    "_ = plt.plot(x,y_ap_internet,marker='.', linestyle='none')\n",
    "_ = plt.plot(x_theor,internet_y_theor)\n",
    "_ = plt.plot(x,y_ap_wholesale,marker='.', linestyle='none')\n",
    "_ = plt.plot(x_theor,wholesale_y_theor)\n",
    "\n",
    "#label the axes\n",
    "plt.xlabel('Year')\n",
    "plt.ylabel('Price')\n",
    "plt.title('Asia Pacific')\n",
    "plt.show()"
   ]
  },
  {
   "cell_type": "markdown",
   "metadata": {},
   "source": [
    "### Latin America Internet and Wholesale Pricing\n",
    "dollars per pair"
   ]
  },
  {
   "cell_type": "code",
   "execution_count": 11,
   "metadata": {},
   "outputs": [
    {
     "name": "stdout",
     "output_type": "stream",
     "text": [
      "Year 18 Internet predicted price: 90.25500000000001\n",
      "Year 18 Wholesale predicted price: 64.15\n"
     ]
    },
    {
     "data": {
      "image/png": "[encoded data removed]",
      "text/plain": [
       "<Figure size 432x288 with 1 Axes>"
      ]
     },
     "metadata": {},
     "output_type": "display_data"
    }
   ],
   "source": [
    "#grab the slope and intercepts for NA Internet and Wholesale segments\n",
    "la_internet_slope, la_internet_intercept = getSlope(x,y_la_internet)\n",
    "la_wholesale_slope, la_wholesale_intercept = getSlope(x,y_la_wholesale)\n",
    "\n",
    "#set the y theoretical for NA Internet and Wholesale\n",
    "internet_y_theor = getYTheor(la_internet_slope, x_theor, la_internet_intercept)\n",
    "wholesale_y_theor = getYTheor(la_wholesale_slope,x_theor, la_wholesale_intercept)\n",
    "\n",
    "#print the predicted price\n",
    "print(printPrediction(la_internet_slope, la_internet_intercept, 'Internet'))\n",
    "print(printPrediction(la_wholesale_slope, la_wholesale_intercept, 'Wholesale'))\n",
    "\n",
    "#plot the anscombe data and theoretical lines\n",
    "_ = plt.plot(x,y_la_internet,marker='.', linestyle='none')\n",
    "_ = plt.plot(x_theor,internet_y_theor)\n",
    "_ = plt.plot(x,y_la_wholesale,marker='.', linestyle='none')\n",
    "_ = plt.plot(x_theor,wholesale_y_theor)\n",
    "\n",
    "#label the axes\n",
    "plt.xlabel('Year')\n",
    "plt.ylabel('Price')\n",
    "plt.title('Latin America')\n",
    "plt.show()"
   ]
  },
  {
   "cell_type": "code",
   "execution_count": null,
   "metadata": {},
   "outputs": [],
   "source": []
  }
 ],
 "metadata": {
  "kernelspec": {
   "display_name": "Python 3",
   "language": "python",
   "name": "python3"
  },
  "language_info": {
   "codemirror_mode": {
    "name": "ipython",
    "version": 3
   },
   "file_extension": ".py",
   "mimetype": "text/x-python",
   "name": "python",
   "nbconvert_exporter": "python",
   "pygments_lexer": "ipython3",
   "version": "3.6.5"
  }
 },
 "nbformat": 4,
 "nbformat_minor": 2
}
