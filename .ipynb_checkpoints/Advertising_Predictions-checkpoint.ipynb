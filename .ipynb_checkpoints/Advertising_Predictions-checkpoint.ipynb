{
 "cells": [
  {
   "cell_type": "markdown",
   "metadata": {},
   "source": [
    "# Predicting Marketing Efforts: SEO Advertising, Brand Advertising, and Retailer Support\n",
    "\n",
    "Let's look at predicting the average Brand Advertising Efforts and Search Engine Optimization Efforts\n",
    "\n",
    "This helps us make more accurate decisions in BSG and identify if we'll hit the shareholder expectations for the period."
   ]
  },
  {
   "cell_type": "code",
   "execution_count": 1,
   "metadata": {},
   "outputs": [
    {
     "data": {
      "text/html": [
       "<div>\n",
       "<style scoped>\n",
       "    .dataframe tbody tr th:only-of-type {\n",
       "        vertical-align: middle;\n",
       "    }\n",
       "\n",
       "    .dataframe tbody tr th {\n",
       "        vertical-align: top;\n",
       "    }\n",
       "\n",
       "    .dataframe thead th {\n",
       "        text-align: right;\n",
       "    }\n",
       "</style>\n",
       "<table border=\"1\" class=\"dataframe\">\n",
       "  <thead>\n",
       "    <tr style=\"text-align: right;\">\n",
       "      <th></th>\n",
       "      <th>ID</th>\n",
       "      <th>YEAR</th>\n",
       "      <th>NA_SEO</th>\n",
       "      <th>NA_ADVERTISING</th>\n",
       "      <th>NA_RETAIL_SUPPORT</th>\n",
       "      <th>EU_SEO</th>\n",
       "      <th>EU_ADVERTISING</th>\n",
       "      <th>EU_RETAIL_SUPPORT</th>\n",
       "      <th>AP_SEO</th>\n",
       "      <th>AP_ADVERTISING</th>\n",
       "      <th>AP_RETAIL_SUPPORT</th>\n",
       "      <th>LA_SEO</th>\n",
       "      <th>LA_ADVERTISING</th>\n",
       "      <th>LA_RETAIL_SUPPORT</th>\n",
       "    </tr>\n",
       "  </thead>\n",
       "  <tbody>\n",
       "    <tr>\n",
       "      <th>0</th>\n",
       "      <td>0</td>\n",
       "      <td>10</td>\n",
       "      <td>5000</td>\n",
       "      <td>10000</td>\n",
       "      <td>4000</td>\n",
       "      <td>4500</td>\n",
       "      <td>9000</td>\n",
       "      <td>4000</td>\n",
       "      <td>4000</td>\n",
       "      <td>8000</td>\n",
       "      <td>2750</td>\n",
       "      <td>4000</td>\n",
       "      <td>7500</td>\n",
       "      <td>2750</td>\n",
       "    </tr>\n",
       "    <tr>\n",
       "      <th>1</th>\n",
       "      <td>1</td>\n",
       "      <td>11</td>\n",
       "      <td>5917</td>\n",
       "      <td>11208</td>\n",
       "      <td>4458</td>\n",
       "      <td>5250</td>\n",
       "      <td>9458</td>\n",
       "      <td>3833</td>\n",
       "      <td>4250</td>\n",
       "      <td>9708</td>\n",
       "      <td>3271</td>\n",
       "      <td>3938</td>\n",
       "      <td>8208</td>\n",
       "      <td>2604</td>\n",
       "    </tr>\n",
       "    <tr>\n",
       "      <th>2</th>\n",
       "      <td>2</td>\n",
       "      <td>12</td>\n",
       "      <td>6938</td>\n",
       "      <td>10833</td>\n",
       "      <td>4292</td>\n",
       "      <td>6146</td>\n",
       "      <td>10667</td>\n",
       "      <td>3938</td>\n",
       "      <td>5083</td>\n",
       "      <td>10833</td>\n",
       "      <td>3417</td>\n",
       "      <td>4521</td>\n",
       "      <td>8542</td>\n",
       "      <td>2979</td>\n",
       "    </tr>\n",
       "    <tr>\n",
       "      <th>3</th>\n",
       "      <td>3</td>\n",
       "      <td>13</td>\n",
       "      <td>7083</td>\n",
       "      <td>10500</td>\n",
       "      <td>3333</td>\n",
       "      <td>5208</td>\n",
       "      <td>10083</td>\n",
       "      <td>2542</td>\n",
       "      <td>5250</td>\n",
       "      <td>10083</td>\n",
       "      <td>3042</td>\n",
       "      <td>4708</td>\n",
       "      <td>8417</td>\n",
       "      <td>2250</td>\n",
       "    </tr>\n",
       "  </tbody>\n",
       "</table>\n",
       "</div>"
      ],
      "text/plain": [
       "   ID  YEAR  NA_SEO  NA_ADVERTISING  NA_RETAIL_SUPPORT  EU_SEO  \\\n",
       "0   0    10    5000           10000               4000    4500   \n",
       "1   1    11    5917           11208               4458    5250   \n",
       "2   2    12    6938           10833               4292    6146   \n",
       "3   3    13    7083           10500               3333    5208   \n",
       "\n",
       "   EU_ADVERTISING  EU_RETAIL_SUPPORT  AP_SEO  AP_ADVERTISING  \\\n",
       "0            9000               4000    4000            8000   \n",
       "1            9458               3833    4250            9708   \n",
       "2           10667               3938    5083           10833   \n",
       "3           10083               2542    5250           10083   \n",
       "\n",
       "   AP_RETAIL_SUPPORT  LA_SEO  LA_ADVERTISING  LA_RETAIL_SUPPORT  \n",
       "0               2750    4000            7500               2750  \n",
       "1               3271    3938            8208               2604  \n",
       "2               3417    4521            8542               2979  \n",
       "3               3042    4708            8417               2250  "
      ]
     },
     "execution_count": 1,
     "metadata": {},
     "output_type": "execute_result"
    }
   ],
   "source": [
    "#let's grab a few packages for stats\n",
    "import matplotlib.pyplot as plt\n",
    "import numpy as np\n",
    "import pandas as pd\n",
    "\n",
    "#Let's set some variables that we'll change each round\n",
    "#Change this year to the year being predicted (i.e. if you're predicting year 16, enter '16')\n",
    "predictionYear = 14 \n",
    "\n",
    "#Load the dataset from our bsg_prices_actual - Sheet1.csv\n",
    "df = pd.read_csv('bsg_marketing_actual - Sheet1.csv')\n",
    "df"
   ]
  },
  {
   "cell_type": "markdown",
   "metadata": {},
   "source": [
    "## Functions\n",
    "1. Slope Intercept\n",
    "2. Print Slope as Formula\n",
    "3. Hypothetical Slope and Intercept from our data\n",
    "4. Print the Predicted Year using Hypothetical Slope and Intercept"
   ]
  },
  {
   "cell_type": "code",
   "execution_count": 2,
   "metadata": {},
   "outputs": [],
   "source": [
    "#1. Slope Intercept Function\n",
    "#Function to find the slope intercept of a first degree polynomial\n",
    "def getSlope(x,y): #pass in the x value, y value, and a string for printing\n",
    "    slope, intercept = np.polyfit(x,y,1).round(decimals = 4) #compute the slope\n",
    "    return slope, intercept\n",
    "\n",
    "#2. Print Slope as Formulas\n",
    "#Function to print the slope\n",
    "def printSlope(x,y,string):\n",
    "    slope, intercept = np.polyfit(x,y,1).round(decimals = 4)\n",
    "    printed_string = string + '= ' + str(slope) + 'x + ' + str(intercept)\n",
    "    return printed_string \n",
    "\n",
    "#3. Hypothetical Slope and Intercept from our data\n",
    "x_theor = np.array([10,predictionYear]) #set x_theor as it will be used in all our Linear Models\n",
    "def getYTheor(slope, x_theor, intercept): #pass in the slope, x_theor, and intercept\n",
    "    y_theor = slope * x_theor + intercept\n",
    "    return y_theor\n",
    "\n",
    "#4. Print Predicted Year using Hypothetical Slope and Intercept\n",
    "def printPrediction(slope, intercept, string): \n",
    "    prediction = 'Year ' + str(predictionYear) + ' ' + string +' predicted price: ' + str(slope * predictionYear + intercept)\n",
    "    return prediction"
   ]
  },
  {
   "cell_type": "markdown",
   "metadata": {},
   "source": [
    "### Find Slope Intercept for each segment"
   ]
  },
  {
   "cell_type": "code",
   "execution_count": 3,
   "metadata": {},
   "outputs": [
    {
     "name": "stdout",
     "output_type": "stream",
     "text": [
      "NA SEO= 727.0x + -2126.0\n",
      "NA Advertising= 112.5x + 9341.5\n",
      "NA Retailer Support= -216.7x + 6512.8\n",
      "EU SEO= 302.0x + 1803.0\n",
      "EU Advertising= 445.8x + 4675.3\n",
      "EU Retailer Support= -426.9x + 8487.6\n",
      "AP SEO= 458.3x + -624.7\n",
      "AP Advertising= 737.4x + 1175.9\n",
      "AP Retailer Support= 102.2x + 1944.7\n",
      "LA SEO= 270.7x + 1178.7\n",
      "LA Advertising= 308.5x + 4619.0\n",
      "LA Retailer Support= -112.5x + 3939.5\n"
     ]
    }
   ],
   "source": [
    "# variable assignments\n",
    "x = np.array(df['YEAR'])\n",
    "y_na_seo = np.array(df['NA_SEO'])\n",
    "y_na_advertising = np.array(df['NA_ADVERTISING'])\n",
    "y_na_retailsup = np.array(df['NA_RETAIL_SUPPORT'])\n",
    "y_eu_seo = np.array(df['EU_SEO'])\n",
    "y_eu_advertising = np.array(df['EU_ADVERTISING'])\n",
    "y_eu_retailsup = np.array(df['EU_RETAIL_SUPPORT'])\n",
    "y_ap_seo = np.array(df['AP_SEO'])\n",
    "y_ap_advertising = np.array(df['AP_ADVERTISING'])\n",
    "y_ap_retailsup = np.array(df['AP_RETAIL_SUPPORT'])\n",
    "y_la_seo = np.array(df['LA_SEO'])\n",
    "y_la_advertising = np.array(df['LA_ADVERTISING'])\n",
    "y_la_retailsup = np.array(df['LA_RETAIL_SUPPORT'])\n",
    "\n",
    "#print the slope in y=mx+b form\n",
    "print(printSlope(x,y_na_seo,'NA SEO'))\n",
    "print(printSlope(x,y_na_advertising,'NA Advertising'))\n",
    "print(printSlope(x,y_na_retailsup,'NA Retailer Support'))\n",
    "print(printSlope(x,y_eu_seo,'EU SEO'))\n",
    "print(printSlope(x,y_eu_advertising,'EU Advertising'))\n",
    "print(printSlope(x,y_eu_retailsup,'EU Retailer Support'))\n",
    "print(printSlope(x,y_ap_seo,'AP SEO'))\n",
    "print(printSlope(x,y_ap_advertising,'AP Advertising'))\n",
    "print(printSlope(x,y_ap_retailsup,'AP Retailer Support'))\n",
    "print(printSlope(x,y_la_seo,'LA SEO'))\n",
    "print(printSlope(x,y_la_advertising,'LA Advertising'))\n",
    "print(printSlope(x,y_la_retailsup,'LA Retailer Support'))\n"
   ]
  },
  {
   "cell_type": "markdown",
   "metadata": {},
   "source": [
    "### North America SEO, Advertising, and Retailer Support Predictions\n",
    "* SEO: Search Engine Optimization Advertising 000s dollars\n",
    "* Advertising: Wholesale Brand Advertising 000s dollars\n",
    "* Retailer Support: dollars per outlet"
   ]
  },
  {
   "cell_type": "code",
   "execution_count": 4,
   "metadata": {},
   "outputs": [
    {
     "name": "stdout",
     "output_type": "stream",
     "text": [
      "Year 14 SEO predicted price: 8052.0\n",
      "Year 14 Brand Advertising predicted price: 10916.5\n",
      "Year 14 Retailer Support predicted price: 3479.0000000000005\n"
     ]
    },
    {
     "data": {
      "image/png": "[encoded data removed]",
      "text/plain": [
       "<Figure size 432x288 with 1 Axes>"
      ]
     },
     "metadata": {},
     "output_type": "display_data"
    }
   ],
   "source": [
    "#grab the slope and intercepts for NA \n",
    "na_seo_slope, na_seo_intercept = getSlope(x,y_na_seo)\n",
    "na_advertising_slope,na_advertising_intercept = getSlope(x,y_na_advertising)\n",
    "na_retailsup_slope, na_retailsup_intercept = getSlope(x,y_na_retailsup)\n",
    "\n",
    "#set the y theoretical for NA\n",
    "seo_y_theor = getYTheor(na_seo_slope, x_theor, na_seo_intercept)\n",
    "advertising_y_theor = getYTheor(na_advertising_slope,x_theor,na_advertising_intercept)\n",
    "retailsup_y_theor = getYTheor(na_retailsup_slope, x_theor, na_retailsup_intercept)\n",
    "\n",
    "#print the predicted price\n",
    "print(printPrediction(na_seo_slope, na_seo_intercept, 'SEO'))\n",
    "print(printPrediction(na_advertising_slope, na_advertising_intercept, 'Brand Advertising'))\n",
    "print(printPrediction(na_retailsup_slope, na_retailsup_intercept, 'Retailer Support'))\n",
    "\n",
    "#plot the anscombe data and theoretical lines\n",
    "_ = plt.plot(x,y_na_seo,marker='.', linestyle='none')\n",
    "_ = plt.plot(x_theor,seo_y_theor)\n",
    "_ = plt.plot(x,y_na_advertising,marker='.', linestyle='none')\n",
    "_ = plt.plot(x_theor,advertising_y_theor)\n",
    "_ = plt.plot(x,y_na_retailsup,marker='.', linestyle='none')\n",
    "_ = plt.plot(x_theor,retailsup_y_theor)\n",
    "\n",
    "#label the axes\n",
    "plt.xlabel('Year')\n",
    "plt.ylabel('Advertising Dollars')\n",
    "plt.title('North America')\n",
    "plt.show()"
   ]
  },
  {
   "cell_type": "markdown",
   "metadata": {},
   "source": [
    "### Europe Africa SEO, Advertising, and Retailer Support Predictions\n",
    "* SEO: Search Engine Optimization Advertising 000s dollars\n",
    "* Advertising: Wholesale Brand Advertising 000s dollars\n",
    "* Retailer Support: dollars per outlet"
   ]
  },
  {
   "cell_type": "code",
   "execution_count": 5,
   "metadata": {},
   "outputs": [
    {
     "name": "stdout",
     "output_type": "stream",
     "text": [
      "Year 14 SEO predicted price: 6031.0\n",
      "Year 14 Brand Advertising predicted price: 10916.5\n",
      "Year 14 Retailer Support predicted price: 2511.000000000001\n"
     ]
    },
    {
     "data": {
      "image/png": "[encoded data removed]",
      "text/plain": [
       "<Figure size 432x288 with 1 Axes>"
      ]
     },
     "metadata": {},
     "output_type": "display_data"
    }
   ],
   "source": [
    "#grab the slope and intercepts for EU \n",
    "eu_seo_slope, eu_seo_intercept = getSlope(x,y_eu_seo)\n",
    "eu_advertising_slope, eu_advertising_intercept = getSlope(x,y_eu_advertising)\n",
    "eu_retailsup_slope, eu_retailsup_intercept = getSlope(x,y_eu_retailsup)\n",
    "\n",
    "#set the y theoretical for EU \n",
    "seo_y_theor = getYTheor(eu_seo_slope, x_theor, eu_seo_intercept)\n",
    "advertising_y_theor = getYTheor(eu_advertising_slope,x_theor,eu_advertising_intercept)\n",
    "retailsup_y_theor = getYTheor(eu_retailsup_slope, x_theor, eu_retailsup_intercept)\n",
    "\n",
    "#print the predicted price\n",
    "print(printPrediction(eu_seo_slope, eu_seo_intercept, 'SEO'))\n",
    "print(printPrediction(eu_advertising_slope, eu_advertising_intercept, 'Brand Advertising'))\n",
    "print(printPrediction(eu_retailsup_slope, eu_retailsup_intercept, 'Retailer Support'))\n",
    "\n",
    "#plot the anscombe data and theoretical lines\n",
    "_ = plt.plot(x,y_eu_seo,marker='.', linestyle='none')\n",
    "_ = plt.plot(x_theor,seo_y_theor)\n",
    "_ = plt.plot(x,y_eu_advertising,marker='.', linestyle='none')\n",
    "_ = plt.plot(x_theor,advertising_y_theor)\n",
    "_ = plt.plot(x,y_eu_retailsup,marker='.', linestyle='none')\n",
    "_ = plt.plot(x_theor,retailsup_y_theor)\n",
    "\n",
    "#label the axes\n",
    "plt.xlabel('Year')\n",
    "plt.ylabel('Advertising Dollars')\n",
    "plt.title('Europe Africa')\n",
    "plt.show()"
   ]
  },
  {
   "cell_type": "markdown",
   "metadata": {},
   "source": [
    "### Asia Pacific SEO, Advertising, and Retailer Support Predictions\n",
    "* SEO: Search Engine Optimization Advertising 000s dollars\n",
    "* Advertising: Wholesale Brand Advertising 000s dollars\n",
    "* Retailer Support: dollars per outlet"
   ]
  },
  {
   "cell_type": "code",
   "execution_count": 6,
   "metadata": {},
   "outputs": [
    {
     "name": "stdout",
     "output_type": "stream",
     "text": [
      "Year 14 SEO predicted price: 5791.5\n",
      "Year 14 Brand Advertising predicted price: 11499.5\n",
      "Year 14 Retailer Support predicted price: 3375.5\n"
     ]
    },
    {
     "data": {
      "image/png": "[encoded data removed]",
      "text/plain": [
       "<Figure size 432x288 with 1 Axes>"
      ]
     },
     "metadata": {},
     "output_type": "display_data"
    }
   ],
   "source": [
    "#grab the slope and intercepts for AP\n",
    "ap_seo_slope, ap_seo_intercept = getSlope(x,y_ap_seo)\n",
    "ap_advertising_slope, ap_advertising_intercept = getSlope(x,y_ap_advertising)\n",
    "ap_retailsup_slope, ap_retailsup_intercept = getSlope(x,y_ap_retailsup)\n",
    "\n",
    "#set the y theoretical for AP\n",
    "seo_y_theor = getYTheor(ap_seo_slope, x_theor, ap_seo_intercept)\n",
    "advertising_y_theor = getYTheor(ap_advertising_slope,x_theor,ap_advertising_intercept)\n",
    "retailsup_y_theor = getYTheor(ap_retailsup_slope, x_theor, ap_retailsup_intercept)\n",
    "\n",
    "#print the predicted price\n",
    "print(printPrediction(ap_seo_slope, ap_seo_intercept, 'SEO'))\n",
    "print(printPrediction(ap_advertising_slope, ap_advertising_intercept, 'Brand Advertising'))\n",
    "print(printPrediction(ap_retailsup_slope, ap_retailsup_intercept, 'Retailer Support'))\n",
    "\n",
    "#plot the anscombe data and theoretical lines\n",
    "_ = plt.plot(x,y_ap_seo,marker='.', linestyle='none')\n",
    "_ = plt.plot(x_theor,seo_y_theor)\n",
    "_ = plt.plot(x,y_ap_advertising,marker='.', linestyle='none')\n",
    "_ = plt.plot(x_theor,advertising_y_theor)\n",
    "_ = plt.plot(x,y_ap_retailsup,marker='.', linestyle='none')\n",
    "_ = plt.plot(x_theor,retailsup_y_theor)\n",
    "\n",
    "#label the axes\n",
    "plt.xlabel('Year')\n",
    "plt.ylabel('Advertising Dollars')\n",
    "plt.title('Asia Pacific')\n",
    "plt.show()"
   ]
  },
  {
   "cell_type": "markdown",
   "metadata": {},
   "source": [
    "### Latin America SEO, Advertising, and Retailer Support Predictions\n",
    "* SEO: Search Engine Optimization Advertising 000s dollars\n",
    "* Advertising: Wholesale Brand Advertising 000s dollars\n",
    "* Retailer Support: dollars per outlet"
   ]
  },
  {
   "cell_type": "code",
   "execution_count": 7,
   "metadata": {},
   "outputs": [
    {
     "name": "stdout",
     "output_type": "stream",
     "text": [
      "Year 14 SEO predicted price: 4968.5\n",
      "Year 14 Brand Advertising predicted price: 8938.0\n",
      "Year 14 Retailer Support predicted price: 2364.5\n"
     ]
    },
    {
     "data": {
      "image/png": "[encoded data removed]",
      "text/plain": [
       "<Figure size 432x288 with 1 Axes>"
      ]
     },
     "metadata": {},
     "output_type": "display_data"
    }
   ],
   "source": [
    "#grab the slope and intercepts for LA \n",
    "la_seo_slope, la_seo_intercept = getSlope(x,y_la_seo)\n",
    "la_advertising_slope, la_advertising_intercept = getSlope(x,y_la_advertising)\n",
    "la_retailsup_slope, la_retailsup_intercept = getSlope(x,y_la_retailsup)\n",
    "\n",
    "#set the y theoretical for LA\n",
    "seo_y_theor = getYTheor(la_seo_slope, x_theor, la_seo_intercept)\n",
    "advertising_y_theor = getYTheor(la_advertising_slope,x_theor,la_advertising_intercept)\n",
    "retailsup_y_theor = getYTheor(la_retailsup_slope, x_theor, la_retailsup_intercept)\n",
    "\n",
    "#print the predicted price\n",
    "print(printPrediction(la_seo_slope, la_seo_intercept, 'SEO'))\n",
    "print(printPrediction(la_advertising_slope, la_advertising_intercept, 'Brand Advertising'))\n",
    "print(printPrediction(la_retailsup_slope, la_retailsup_intercept, 'Retailer Support'))\n",
    "\n",
    "#plot the anscombe data and theoretical lines\n",
    "_ = plt.plot(x,y_la_seo,marker='.', linestyle='none')\n",
    "_ = plt.plot(x_theor,seo_y_theor)\n",
    "_ = plt.plot(x,y_la_advertising,marker='.', linestyle='none')\n",
    "_ = plt.plot(x_theor,advertising_y_theor)\n",
    "_ = plt.plot(x,y_la_retailsup,marker='.', linestyle='none')\n",
    "_ = plt.plot(x_theor,retailsup_y_theor)\n",
    "\n",
    "#label the axes\n",
    "plt.xlabel('Year')\n",
    "plt.ylabel('Advertising Dollars')\n",
    "plt.title('Latin America')\n",
    "plt.show()"
   ]
  },
  {
   "cell_type": "code",
   "execution_count": null,
   "metadata": {},
   "outputs": [],
   "source": []
  },
  {
   "cell_type": "code",
   "execution_count": null,
   "metadata": {},
   "outputs": [],
   "source": []
  },
  {
   "cell_type": "code",
   "execution_count": null,
   "metadata": {},
   "outputs": [],
   "source": []
  }
 ],
 "metadata": {
  "kernelspec": {
   "display_name": "Python 3",
   "language": "python",
   "name": "python3"
  },
  "language_info": {
   "codemirror_mode": {
    "name": "ipython",
    "version": 3
   },
   "file_extension": ".py",
   "mimetype": "text/x-python",
   "name": "python",
   "nbconvert_exporter": "python",
   "pygments_lexer": "ipython3",
   "version": "3.6.5"
  }
 },
 "nbformat": 4,
 "nbformat_minor": 2
}
