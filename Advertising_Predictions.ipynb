{
 "cells": [
  {
   "cell_type": "markdown",
   "metadata": {},
   "source": [
    "# Predicting Marketing Efforts: SEO Advertising, Brand Advertising, and Retailer Support\n",
    "\n",
    "Let's look at predicting the average Brand Advertising Efforts and Search Engine Optimization Efforts\n",
    "\n",
    "This helps us make more accurate decisions in BSG and identify if we'll hit the shareholder expectations for the period."
   ]
  },
  {
   "cell_type": "code",
   "execution_count": 1,
   "metadata": {},
   "outputs": [
    {
     "data": {
      "text/html": [
       "<div>\n",
       "<style scoped>\n",
       "    .dataframe tbody tr th:only-of-type {\n",
       "        vertical-align: middle;\n",
       "    }\n",
       "\n",
       "    .dataframe tbody tr th {\n",
       "        vertical-align: top;\n",
       "    }\n",
       "\n",
       "    .dataframe thead th {\n",
       "        text-align: right;\n",
       "    }\n",
       "</style>\n",
       "<table border=\"1\" class=\"dataframe\">\n",
       "  <thead>\n",
       "    <tr style=\"text-align: right;\">\n",
       "      <th></th>\n",
       "      <th>ID</th>\n",
       "      <th>YEAR</th>\n",
       "      <th>NA_SEO</th>\n",
       "      <th>NA_ADVERTISING</th>\n",
       "      <th>NA_RETAIL_SUPPORT</th>\n",
       "      <th>EU_SEO</th>\n",
       "      <th>EU_ADVERTISING</th>\n",
       "      <th>EU_RETAIL_SUPPORT</th>\n",
       "      <th>AP_SEO</th>\n",
       "      <th>AP_ADVERTISING</th>\n",
       "      <th>AP_RETAIL_SUPPORT</th>\n",
       "      <th>LA_SEO</th>\n",
       "      <th>LA_ADVERTISING</th>\n",
       "      <th>LA_RETAIL_SUPPORT</th>\n",
       "    </tr>\n",
       "  </thead>\n",
       "  <tbody>\n",
       "    <tr>\n",
       "      <th>0</th>\n",
       "      <td>4</td>\n",
       "      <td>14</td>\n",
       "      <td>7825</td>\n",
       "      <td>18750</td>\n",
       "      <td>3575</td>\n",
       "      <td>7600</td>\n",
       "      <td>20550</td>\n",
       "      <td>3575</td>\n",
       "      <td>6850</td>\n",
       "      <td>19850</td>\n",
       "      <td>3350</td>\n",
       "      <td>7875</td>\n",
       "      <td>22450</td>\n",
       "      <td>4325</td>\n",
       "    </tr>\n",
       "    <tr>\n",
       "      <th>1</th>\n",
       "      <td>5</td>\n",
       "      <td>15</td>\n",
       "      <td>9200</td>\n",
       "      <td>21000</td>\n",
       "      <td>3250</td>\n",
       "      <td>9900</td>\n",
       "      <td>25250</td>\n",
       "      <td>3250</td>\n",
       "      <td>8225</td>\n",
       "      <td>22750</td>\n",
       "      <td>3025</td>\n",
       "      <td>11250</td>\n",
       "      <td>25800</td>\n",
       "      <td>4375</td>\n",
       "    </tr>\n",
       "    <tr>\n",
       "      <th>2</th>\n",
       "      <td>6</td>\n",
       "      <td>16</td>\n",
       "      <td>9725</td>\n",
       "      <td>22750</td>\n",
       "      <td>3300</td>\n",
       "      <td>9650</td>\n",
       "      <td>25900</td>\n",
       "      <td>3225</td>\n",
       "      <td>8525</td>\n",
       "      <td>23450</td>\n",
       "      <td>3300</td>\n",
       "      <td>10675</td>\n",
       "      <td>26000</td>\n",
       "      <td>2195</td>\n",
       "    </tr>\n",
       "    <tr>\n",
       "      <th>3</th>\n",
       "      <td>7</td>\n",
       "      <td>17</td>\n",
       "      <td>11150</td>\n",
       "      <td>22000</td>\n",
       "      <td>3425</td>\n",
       "      <td>9550</td>\n",
       "      <td>24300</td>\n",
       "      <td>3275</td>\n",
       "      <td>8900</td>\n",
       "      <td>22500</td>\n",
       "      <td>3275</td>\n",
       "      <td>11525</td>\n",
       "      <td>24500</td>\n",
       "      <td>3625</td>\n",
       "    </tr>\n",
       "    <tr>\n",
       "      <th>4</th>\n",
       "      <td>8</td>\n",
       "      <td>18</td>\n",
       "      <td>9850</td>\n",
       "      <td>18700</td>\n",
       "      <td>3450</td>\n",
       "      <td>9700</td>\n",
       "      <td>21350</td>\n",
       "      <td>3450</td>\n",
       "      <td>8475</td>\n",
       "      <td>22200</td>\n",
       "      <td>3275</td>\n",
       "      <td>10525</td>\n",
       "      <td>21300</td>\n",
       "      <td>3875</td>\n",
       "    </tr>\n",
       "  </tbody>\n",
       "</table>\n",
       "</div>"
      ],
      "text/plain": [
       "   ID  YEAR  NA_SEO  NA_ADVERTISING  NA_RETAIL_SUPPORT  EU_SEO  \\\n",
       "0   4    14    7825           18750               3575    7600   \n",
       "1   5    15    9200           21000               3250    9900   \n",
       "2   6    16    9725           22750               3300    9650   \n",
       "3   7    17   11150           22000               3425    9550   \n",
       "4   8    18    9850           18700               3450    9700   \n",
       "\n",
       "   EU_ADVERTISING  EU_RETAIL_SUPPORT  AP_SEO  AP_ADVERTISING  \\\n",
       "0           20550               3575    6850           19850   \n",
       "1           25250               3250    8225           22750   \n",
       "2           25900               3225    8525           23450   \n",
       "3           24300               3275    8900           22500   \n",
       "4           21350               3450    8475           22200   \n",
       "\n",
       "   AP_RETAIL_SUPPORT  LA_SEO  LA_ADVERTISING  LA_RETAIL_SUPPORT  \n",
       "0               3350    7875           22450               4325  \n",
       "1               3025   11250           25800               4375  \n",
       "2               3300   10675           26000               2195  \n",
       "3               3275   11525           24500               3625  \n",
       "4               3275   10525           21300               3875  "
      ]
     },
     "execution_count": 1,
     "metadata": {},
     "output_type": "execute_result"
    }
   ],
   "source": [
    "#let's grab a few packages for stats\n",
    "import matplotlib.pyplot as plt\n",
    "import numpy as np\n",
    "import pandas as pd\n",
    "\n",
    "#Let's set some variables that we'll change each round\n",
    "#Change this year to the year being predicted (i.e. if you're predicting year 16, enter '16')\n",
    "predictionYear = 19 \n",
    "\n",
    "#Load the dataset from our bsg_prices_actual - Sheet1.csv\n",
    "df = pd.read_csv('bsg_marketing_actual - Sheet1.csv')\n",
    "df"
   ]
  },
  {
   "cell_type": "markdown",
   "metadata": {},
   "source": [
    "## Functions\n",
    "1. Slope Intercept\n",
    "2. Print Slope as Formula\n",
    "3. Hypothetical Slope and Intercept from our data\n",
    "4. Print the Predicted Year using Hypothetical Slope and Intercept"
   ]
  },
  {
   "cell_type": "code",
   "execution_count": 2,
   "metadata": {},
   "outputs": [],
   "source": [
    "#1. Slope Intercept Function\n",
    "#Function to find the slope intercept of a first degree polynomial\n",
    "def getSlope(x,y): #pass in the x value, y value, and a string for printing\n",
    "    slope, intercept = np.polyfit(x,y,1).round(decimals = 4) #compute the slope\n",
    "    return slope, intercept\n",
    "\n",
    "#2. Print Slope as Formulas\n",
    "#Function to print the slope\n",
    "def printSlope(x,y,string):\n",
    "    slope, intercept = np.polyfit(x,y,1).round(decimals = 4)\n",
    "    printed_string = string + '= ' + str(slope) + 'x + ' + str(intercept)\n",
    "    return printed_string \n",
    "\n",
    "#3. Hypothetical Slope and Intercept from our data\n",
    "x_theor = np.array([14,predictionYear]) #set x_theor as it will be used in all our Linear Models\n",
    "def getYTheor(slope, x_theor, intercept): #pass in the slope, x_theor, and intercept\n",
    "    y_theor = slope * x_theor + intercept\n",
    "    return y_theor\n",
    "\n",
    "#4. Print Predicted Year using Hypothetical Slope and Intercept\n",
    "def printPrediction(slope, intercept, string): \n",
    "    prediction = 'Year ' + str(predictionYear) + ' ' + string +' predicted price: ' + str(slope * predictionYear + intercept)\n",
    "    return prediction"
   ]
  },
  {
   "cell_type": "markdown",
   "metadata": {},
   "source": [
    "### Find Slope Intercept for each segment"
   ]
  },
  {
   "cell_type": "code",
   "execution_count": 3,
   "metadata": {},
   "outputs": [
    {
     "name": "stdout",
     "output_type": "stream",
     "text": [
      "NA SEO= 600.0x + -50.0\n",
      "NA Advertising= 90.0x + 19200.0\n",
      "NA Retailer Support= -7.5x + 3520.0\n",
      "EU SEO= 385.0x + 3120.0\n",
      "EU Advertising= 65.0x + 22430.0\n",
      "EU Retailer Support= -22.5x + 3715.0\n",
      "AP SEO= 392.5x + 1915.0\n",
      "AP Advertising= 445.0x + 15030.0\n",
      "AP Retailer Support= 10.0x + 3085.0\n",
      "LA SEO= 557.5x + 1450.0\n",
      "LA Advertising= -360.0x + 29770.0\n",
      "LA Retailer Support= -165.0x + 6319.0\n"
     ]
    }
   ],
   "source": [
    "# variable assignments\n",
    "x = np.array(df['YEAR'])\n",
    "y_na_seo = np.array(df['NA_SEO'])\n",
    "y_na_advertising = np.array(df['NA_ADVERTISING'])\n",
    "y_na_retailsup = np.array(df['NA_RETAIL_SUPPORT'])\n",
    "y_eu_seo = np.array(df['EU_SEO'])\n",
    "y_eu_advertising = np.array(df['EU_ADVERTISING'])\n",
    "y_eu_retailsup = np.array(df['EU_RETAIL_SUPPORT'])\n",
    "y_ap_seo = np.array(df['AP_SEO'])\n",
    "y_ap_advertising = np.array(df['AP_ADVERTISING'])\n",
    "y_ap_retailsup = np.array(df['AP_RETAIL_SUPPORT'])\n",
    "y_la_seo = np.array(df['LA_SEO'])\n",
    "y_la_advertising = np.array(df['LA_ADVERTISING'])\n",
    "y_la_retailsup = np.array(df['LA_RETAIL_SUPPORT'])\n",
    "\n",
    "#print the slope in y=mx+b form\n",
    "print(printSlope(x,y_na_seo,'NA SEO'))\n",
    "print(printSlope(x,y_na_advertising,'NA Advertising'))\n",
    "print(printSlope(x,y_na_retailsup,'NA Retailer Support'))\n",
    "print(printSlope(x,y_eu_seo,'EU SEO'))\n",
    "print(printSlope(x,y_eu_advertising,'EU Advertising'))\n",
    "print(printSlope(x,y_eu_retailsup,'EU Retailer Support'))\n",
    "print(printSlope(x,y_ap_seo,'AP SEO'))\n",
    "print(printSlope(x,y_ap_advertising,'AP Advertising'))\n",
    "print(printSlope(x,y_ap_retailsup,'AP Retailer Support'))\n",
    "print(printSlope(x,y_la_seo,'LA SEO'))\n",
    "print(printSlope(x,y_la_advertising,'LA Advertising'))\n",
    "print(printSlope(x,y_la_retailsup,'LA Retailer Support'))\n"
   ]
  },
  {
   "cell_type": "markdown",
   "metadata": {},
   "source": [
    "### North America SEO, Advertising, and Retailer Support Predictions\n",
    "* SEO: Search Engine Optimization Advertising 000s dollars\n",
    "* Advertising: Wholesale Brand Advertising 000s dollars\n",
    "* Retailer Support: dollars per outlet"
   ]
  },
  {
   "cell_type": "code",
   "execution_count": 4,
   "metadata": {},
   "outputs": [
    {
     "name": "stdout",
     "output_type": "stream",
     "text": [
      "Year 19 SEO predicted price: 11350.0\n",
      "Year 19 Brand Advertising predicted price: 20910.0\n",
      "Year 19 Retailer Support predicted price: 3377.5\n"
     ]
    },
    {
     "data": {
      "image/png": "[encoded data removed]",
      "text/plain": [
       "<Figure size 432x288 with 1 Axes>"
      ]
     },
     "metadata": {},
     "output_type": "display_data"
    }
   ],
   "source": [
    "#grab the slope and intercepts for NA \n",
    "na_seo_slope, na_seo_intercept = getSlope(x,y_na_seo)\n",
    "na_advertising_slope,na_advertising_intercept = getSlope(x,y_na_advertising)\n",
    "na_retailsup_slope, na_retailsup_intercept = getSlope(x,y_na_retailsup)\n",
    "\n",
    "#set the y theoretical for NA\n",
    "seo_y_theor = getYTheor(na_seo_slope, x_theor, na_seo_intercept)\n",
    "advertising_y_theor = getYTheor(na_advertising_slope,x_theor,na_advertising_intercept)\n",
    "retailsup_y_theor = getYTheor(na_retailsup_slope, x_theor, na_retailsup_intercept)\n",
    "\n",
    "#print the predicted price\n",
    "print(printPrediction(na_seo_slope, na_seo_intercept, 'SEO'))\n",
    "print(printPrediction(na_advertising_slope, na_advertising_intercept, 'Brand Advertising'))\n",
    "print(printPrediction(na_retailsup_slope, na_retailsup_intercept, 'Retailer Support'))\n",
    "\n",
    "#plot the anscombe data and theoretical lines\n",
    "_ = plt.plot(x,y_na_seo,marker='.', linestyle='none')\n",
    "_ = plt.plot(x_theor,seo_y_theor)\n",
    "_ = plt.plot(x,y_na_advertising,marker='.', linestyle='none')\n",
    "_ = plt.plot(x_theor,advertising_y_theor)\n",
    "_ = plt.plot(x,y_na_retailsup,marker='.', linestyle='none')\n",
    "_ = plt.plot(x_theor,retailsup_y_theor)\n",
    "\n",
    "#label the axes\n",
    "plt.xlabel('Year')\n",
    "plt.ylabel('Advertising Dollars')\n",
    "plt.title('North America')\n",
    "plt.show()"
   ]
  },
  {
   "cell_type": "markdown",
   "metadata": {},
   "source": [
    "### Europe Africa SEO, Advertising, and Retailer Support Predictions\n",
    "* SEO: Search Engine Optimization Advertising 000s dollars\n",
    "* Advertising: Wholesale Brand Advertising 000s dollars\n",
    "* Retailer Support: dollars per outlet"
   ]
  },
  {
   "cell_type": "code",
   "execution_count": 5,
   "metadata": {},
   "outputs": [
    {
     "name": "stdout",
     "output_type": "stream",
     "text": [
      "Year 19 SEO predicted price: 10435.0\n",
      "Year 19 Brand Advertising predicted price: 23665.0\n",
      "Year 19 Retailer Support predicted price: 3287.5\n"
     ]
    },
    {
     "data": {
      "image/png": "[encoded data removed]",
      "text/plain": [
       "<Figure size 432x288 with 1 Axes>"
      ]
     },
     "metadata": {},
     "output_type": "display_data"
    }
   ],
   "source": [
    "#grab the slope and intercepts for EU \n",
    "eu_seo_slope, eu_seo_intercept = getSlope(x,y_eu_seo)\n",
    "eu_advertising_slope, eu_advertising_intercept = getSlope(x,y_eu_advertising)\n",
    "eu_retailsup_slope, eu_retailsup_intercept = getSlope(x,y_eu_retailsup)\n",
    "\n",
    "#set the y theoretical for EU \n",
    "seo_y_theor = getYTheor(eu_seo_slope, x_theor, eu_seo_intercept)\n",
    "advertising_y_theor = getYTheor(eu_advertising_slope,x_theor,eu_advertising_intercept)\n",
    "retailsup_y_theor = getYTheor(eu_retailsup_slope, x_theor, eu_retailsup_intercept)\n",
    "\n",
    "#print the predicted price\n",
    "print(printPrediction(eu_seo_slope, eu_seo_intercept, 'SEO'))\n",
    "print(printPrediction(eu_advertising_slope, eu_advertising_intercept, 'Brand Advertising'))\n",
    "print(printPrediction(eu_retailsup_slope, eu_retailsup_intercept, 'Retailer Support'))\n",
    "\n",
    "#plot the anscombe data and theoretical lines\n",
    "_ = plt.plot(x,y_eu_seo,marker='.', linestyle='none')\n",
    "_ = plt.plot(x_theor,seo_y_theor)\n",
    "_ = plt.plot(x,y_eu_advertising,marker='.', linestyle='none')\n",
    "_ = plt.plot(x_theor,advertising_y_theor)\n",
    "_ = plt.plot(x,y_eu_retailsup,marker='.', linestyle='none')\n",
    "_ = plt.plot(x_theor,retailsup_y_theor)\n",
    "\n",
    "#label the axes\n",
    "plt.xlabel('Year')\n",
    "plt.ylabel('Advertising Dollars')\n",
    "plt.title('Europe Africa')\n",
    "plt.show()"
   ]
  },
  {
   "cell_type": "markdown",
   "metadata": {},
   "source": [
    "### Asia Pacific SEO, Advertising, and Retailer Support Predictions\n",
    "* SEO: Search Engine Optimization Advertising 000s dollars\n",
    "* Advertising: Wholesale Brand Advertising 000s dollars\n",
    "* Retailer Support: dollars per outlet"
   ]
  },
  {
   "cell_type": "code",
   "execution_count": 6,
   "metadata": {},
   "outputs": [
    {
     "name": "stdout",
     "output_type": "stream",
     "text": [
      "Year 19 SEO predicted price: 9372.5\n",
      "Year 19 Brand Advertising predicted price: 23485.0\n",
      "Year 19 Retailer Support predicted price: 3275.0\n"
     ]
    },
    {
     "data": {
      "image/png": "[encoded data removed]",
      "text/plain": [
       "<Figure size 432x288 with 1 Axes>"
      ]
     },
     "metadata": {},
     "output_type": "display_data"
    }
   ],
   "source": [
    "#grab the slope and intercepts for AP\n",
    "ap_seo_slope, ap_seo_intercept = getSlope(x,y_ap_seo)\n",
    "ap_advertising_slope, ap_advertising_intercept = getSlope(x,y_ap_advertising)\n",
    "ap_retailsup_slope, ap_retailsup_intercept = getSlope(x,y_ap_retailsup)\n",
    "\n",
    "#set the y theoretical for AP\n",
    "seo_y_theor = getYTheor(ap_seo_slope, x_theor, ap_seo_intercept)\n",
    "advertising_y_theor = getYTheor(ap_advertising_slope,x_theor,ap_advertising_intercept)\n",
    "retailsup_y_theor = getYTheor(ap_retailsup_slope, x_theor, ap_retailsup_intercept)\n",
    "\n",
    "#print the predicted price\n",
    "print(printPrediction(ap_seo_slope, ap_seo_intercept, 'SEO'))\n",
    "print(printPrediction(ap_advertising_slope, ap_advertising_intercept, 'Brand Advertising'))\n",
    "print(printPrediction(ap_retailsup_slope, ap_retailsup_intercept, 'Retailer Support'))\n",
    "\n",
    "#plot the anscombe data and theoretical lines\n",
    "_ = plt.plot(x,y_ap_seo,marker='.', linestyle='none')\n",
    "_ = plt.plot(x_theor,seo_y_theor)\n",
    "_ = plt.plot(x,y_ap_advertising,marker='.', linestyle='none')\n",
    "_ = plt.plot(x_theor,advertising_y_theor)\n",
    "_ = plt.plot(x,y_ap_retailsup,marker='.', linestyle='none')\n",
    "_ = plt.plot(x_theor,retailsup_y_theor)\n",
    "\n",
    "#label the axes\n",
    "plt.xlabel('Year')\n",
    "plt.ylabel('Advertising Dollars')\n",
    "plt.title('Asia Pacific')\n",
    "plt.show()"
   ]
  },
  {
   "cell_type": "markdown",
   "metadata": {},
   "source": [
    "### Latin America SEO, Advertising, and Retailer Support Predictions\n",
    "* SEO: Search Engine Optimization Advertising 000s dollars\n",
    "* Advertising: Wholesale Brand Advertising 000s dollars\n",
    "* Retailer Support: dollars per outlet"
   ]
  },
  {
   "cell_type": "code",
   "execution_count": 7,
   "metadata": {},
   "outputs": [
    {
     "name": "stdout",
     "output_type": "stream",
     "text": [
      "Year 19 SEO predicted price: 12042.5\n",
      "Year 19 Brand Advertising predicted price: 22930.0\n",
      "Year 19 Retailer Support predicted price: 3184.0\n"
     ]
    },
    {
     "data": {
      "image/png": "[encoded data removed]",
      "text/plain": [
       "<Figure size 432x288 with 1 Axes>"
      ]
     },
     "metadata": {},
     "output_type": "display_data"
    }
   ],
   "source": [
    "#grab the slope and intercepts for LA \n",
    "la_seo_slope, la_seo_intercept = getSlope(x,y_la_seo)\n",
    "la_advertising_slope, la_advertising_intercept = getSlope(x,y_la_advertising)\n",
    "la_retailsup_slope, la_retailsup_intercept = getSlope(x,y_la_retailsup)\n",
    "\n",
    "#set the y theoretical for LA\n",
    "seo_y_theor = getYTheor(la_seo_slope, x_theor, la_seo_intercept)\n",
    "advertising_y_theor = getYTheor(la_advertising_slope,x_theor,la_advertising_intercept)\n",
    "retailsup_y_theor = getYTheor(la_retailsup_slope, x_theor, la_retailsup_intercept)\n",
    "\n",
    "#print the predicted price\n",
    "print(printPrediction(la_seo_slope, la_seo_intercept, 'SEO'))\n",
    "print(printPrediction(la_advertising_slope, la_advertising_intercept, 'Brand Advertising'))\n",
    "print(printPrediction(la_retailsup_slope, la_retailsup_intercept, 'Retailer Support'))\n",
    "\n",
    "#plot the anscombe data and theoretical lines\n",
    "_ = plt.plot(x,y_la_seo,marker='.', linestyle='none')\n",
    "_ = plt.plot(x_theor,seo_y_theor)\n",
    "_ = plt.plot(x,y_la_advertising,marker='.', linestyle='none')\n",
    "_ = plt.plot(x_theor,advertising_y_theor)\n",
    "_ = plt.plot(x,y_la_retailsup,marker='.', linestyle='none')\n",
    "_ = plt.plot(x_theor,retailsup_y_theor)\n",
    "\n",
    "#label the axes\n",
    "plt.xlabel('Year')\n",
    "plt.ylabel('Advertising Dollars')\n",
    "plt.title('Latin America')\n",
    "plt.show()"
   ]
  },
  {
   "cell_type": "code",
   "execution_count": null,
   "metadata": {},
   "outputs": [],
   "source": []
  }
 ],
 "metadata": {
  "kernelspec": {
   "display_name": "Python 3",
   "language": "python",
   "name": "python3"
  },
  "language_info": {
   "codemirror_mode": {
    "name": "ipython",
    "version": 3
   },
   "file_extension": ".py",
   "mimetype": "text/x-python",
   "name": "python",
   "nbconvert_exporter": "python",
   "pygments_lexer": "ipython3",
   "version": "3.6.5"
  }
 },
 "nbformat": 4,
 "nbformat_minor": 2
}
