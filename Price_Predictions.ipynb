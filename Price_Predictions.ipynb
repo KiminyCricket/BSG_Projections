{
 "cells": [
  {
   "cell_type": "markdown",
   "metadata": {},
   "source": [
    "# Predicting Price for Wholesale and Internet segments\n",
    "First thing we need to do is predict the average prices in the wholesale and internet segments for North America, Europe Africa, Asia Pacific, and Latin America.\n",
    "\n",
    "This helps us make more accurate decisions in BSG and identify if we'll hit the shareholder expectations for the period."
   ]
  },
  {
   "cell_type": "code",
   "execution_count": 34,
   "metadata": {},
   "outputs": [
    {
     "data": {
      "text/html": [
       "<div>\n",
       "<style scoped>\n",
       "    .dataframe tbody tr th:only-of-type {\n",
       "        vertical-align: middle;\n",
       "    }\n",
       "\n",
       "    .dataframe tbody tr th {\n",
       "        vertical-align: top;\n",
       "    }\n",
       "\n",
       "    .dataframe thead th {\n",
       "        text-align: right;\n",
       "    }\n",
       "</style>\n",
       "<table border=\"1\" class=\"dataframe\">\n",
       "  <thead>\n",
       "    <tr style=\"text-align: right;\">\n",
       "      <th></th>\n",
       "      <th>ID</th>\n",
       "      <th>YEAR</th>\n",
       "      <th>NA_PRICE_INTERNET_INDUSTRY_AVERAGE</th>\n",
       "      <th>NA_PRICE_WHOLESALE_INDUSTRY_AVERAGE</th>\n",
       "      <th>EU_PRICE_INTERNET_INDUSTRY_AVERAGE</th>\n",
       "      <th>EU_PRICE_WHOLESALE_INDUSTRY_AVERAGE</th>\n",
       "      <th>AP_PRICE_INTERNET_INDUSTRY_AVERAGE</th>\n",
       "      <th>AP_PRICE_WHOLESALE_INDUSTRY_AVERAGE</th>\n",
       "      <th>LA_PRICE_INTERNET_INDUSTRY_AVERAGE</th>\n",
       "      <th>LA_PRICE_WHOLESALE_INDUSTRY_AVERAGE</th>\n",
       "    </tr>\n",
       "  </thead>\n",
       "  <tbody>\n",
       "    <tr>\n",
       "      <th>0</th>\n",
       "      <td>0</td>\n",
       "      <td>10</td>\n",
       "      <td>67.00</td>\n",
       "      <td>48.00</td>\n",
       "      <td>72.00</td>\n",
       "      <td>53.00</td>\n",
       "      <td>67.00</td>\n",
       "      <td>48.00</td>\n",
       "      <td>72.00</td>\n",
       "      <td>53.00</td>\n",
       "    </tr>\n",
       "    <tr>\n",
       "      <th>1</th>\n",
       "      <td>1</td>\n",
       "      <td>11</td>\n",
       "      <td>78.19</td>\n",
       "      <td>54.83</td>\n",
       "      <td>85.87</td>\n",
       "      <td>61.50</td>\n",
       "      <td>79.42</td>\n",
       "      <td>56.36</td>\n",
       "      <td>87.45</td>\n",
       "      <td>63.10</td>\n",
       "    </tr>\n",
       "    <tr>\n",
       "      <th>2</th>\n",
       "      <td>2</td>\n",
       "      <td>12</td>\n",
       "      <td>79.97</td>\n",
       "      <td>56.34</td>\n",
       "      <td>90.71</td>\n",
       "      <td>63.35</td>\n",
       "      <td>83.55</td>\n",
       "      <td>58.96</td>\n",
       "      <td>92.84</td>\n",
       "      <td>65.78</td>\n",
       "    </tr>\n",
       "    <tr>\n",
       "      <th>3</th>\n",
       "      <td>3</td>\n",
       "      <td>13</td>\n",
       "      <td>83.60</td>\n",
       "      <td>58.05</td>\n",
       "      <td>94.48</td>\n",
       "      <td>65.35</td>\n",
       "      <td>86.15</td>\n",
       "      <td>60.34</td>\n",
       "      <td>97.58</td>\n",
       "      <td>68.45</td>\n",
       "    </tr>\n",
       "    <tr>\n",
       "      <th>4</th>\n",
       "      <td>4</td>\n",
       "      <td>14</td>\n",
       "      <td>88.14</td>\n",
       "      <td>60.54</td>\n",
       "      <td>98.12</td>\n",
       "      <td>67.63</td>\n",
       "      <td>86.40</td>\n",
       "      <td>60.69</td>\n",
       "      <td>94.86</td>\n",
       "      <td>67.08</td>\n",
       "    </tr>\n",
       "    <tr>\n",
       "      <th>5</th>\n",
       "      <td>5</td>\n",
       "      <td>15</td>\n",
       "      <td>93.47</td>\n",
       "      <td>65.66</td>\n",
       "      <td>101.90</td>\n",
       "      <td>71.76</td>\n",
       "      <td>91.30</td>\n",
       "      <td>63.86</td>\n",
       "      <td>94.37</td>\n",
       "      <td>66.34</td>\n",
       "    </tr>\n",
       "  </tbody>\n",
       "</table>\n",
       "</div>"
      ],
      "text/plain": [
       "   ID  YEAR  NA_PRICE_INTERNET_INDUSTRY_AVERAGE  \\\n",
       "0   0    10                               67.00   \n",
       "1   1    11                               78.19   \n",
       "2   2    12                               79.97   \n",
       "3   3    13                               83.60   \n",
       "4   4    14                               88.14   \n",
       "5   5    15                               93.47   \n",
       "\n",
       "   NA_PRICE_WHOLESALE_INDUSTRY_AVERAGE  EU_PRICE_INTERNET_INDUSTRY_AVERAGE  \\\n",
       "0                                48.00                               72.00   \n",
       "1                                54.83                               85.87   \n",
       "2                                56.34                               90.71   \n",
       "3                                58.05                               94.48   \n",
       "4                                60.54                               98.12   \n",
       "5                                65.66                              101.90   \n",
       "\n",
       "   EU_PRICE_WHOLESALE_INDUSTRY_AVERAGE  AP_PRICE_INTERNET_INDUSTRY_AVERAGE  \\\n",
       "0                                53.00                               67.00   \n",
       "1                                61.50                               79.42   \n",
       "2                                63.35                               83.55   \n",
       "3                                65.35                               86.15   \n",
       "4                                67.63                               86.40   \n",
       "5                                71.76                               91.30   \n",
       "\n",
       "   AP_PRICE_WHOLESALE_INDUSTRY_AVERAGE  LA_PRICE_INTERNET_INDUSTRY_AVERAGE  \\\n",
       "0                                48.00                               72.00   \n",
       "1                                56.36                               87.45   \n",
       "2                                58.96                               92.84   \n",
       "3                                60.34                               97.58   \n",
       "4                                60.69                               94.86   \n",
       "5                                63.86                               94.37   \n",
       "\n",
       "   LA_PRICE_WHOLESALE_INDUSTRY_AVERAGE  \n",
       "0                                53.00  \n",
       "1                                63.10  \n",
       "2                                65.78  \n",
       "3                                68.45  \n",
       "4                                67.08  \n",
       "5                                66.34  "
      ]
     },
     "execution_count": 34,
     "metadata": {},
     "output_type": "execute_result"
    }
   ],
   "source": [
    "#let's grab a few packages for stats\n",
    "import matplotlib.pyplot as plt\n",
    "import numpy as np\n",
    "import pandas as pd\n",
    "\n",
    "#Let's set some variables that we'll change each round\n",
    "#Change this year to the year being predicted (i.e. if you're predicting year 16, enter '16')\n",
    "predictionYear = 16 \n",
    "\n",
    "#Load the dataset from our bsg_prices_actual - Sheet1.csv\n",
    "df = pd.read_csv('bsg_prices_actual - Sheet1.csv')\n",
    "df"
   ]
  },
  {
   "cell_type": "markdown",
   "metadata": {},
   "source": [
    "## Find The Slope Intercept for each segment\n",
    "Let's start off with some simple Linear Regressions using Least Squares"
   ]
  },
  {
   "cell_type": "code",
   "execution_count": 46,
   "metadata": {},
   "outputs": [
    {
     "name": "stdout",
     "output_type": "stream",
     "text": [
      "NA Internet Price = 4.737999999999999x + 22.50333333333338\n",
      "NA Wholesale Price = 3.0611428571428516x + 18.972380952381044\n",
      "EU Internet Price = 5.429142857142855x + 22.64904761904769\n",
      "EU Wholesale Price = 3.262571428571427x + 22.982857142857195\n",
      "AP Internet Price = 4.144000000000003x + 30.503333333333316\n",
      "AP Wholesale Price = 2.676285714285713x + 24.58142857142861\n",
      "LA Internet Price = 3.966285714285715x + 40.271428571428594\n",
      "LA Wholesale Price = 2.323142857142859x + 34.91904761904761\n"
     ]
    }
   ],
   "source": [
    "# x will is Year and will be used in all the models\n",
    "x = np.array(df['YEAR'])\n",
    "\n",
    "# each y will be for the segment we're looking at\n",
    "y_na_internet = np.array(df['NA_PRICE_INTERNET_INDUSTRY_AVERAGE'])\n",
    "y_na_wholesale = np.array(df['NA_PRICE_WHOLESALE_INDUSTRY_AVERAGE'])\n",
    "y_eu_internet = np.array(df['EU_PRICE_INTERNET_INDUSTRY_AVERAGE'])\n",
    "y_eu_wholesale = np.array(df['EU_PRICE_WHOLESALE_INDUSTRY_AVERAGE'])\n",
    "y_ap_internet = np.array(df['AP_PRICE_INTERNET_INDUSTRY_AVERAGE'])\n",
    "y_ap_wholesale = np.array(df['AP_PRICE_WHOLESALE_INDUSTRY_AVERAGE'])\n",
    "y_la_internet = np.array(df['LA_PRICE_INTERNET_INDUSTRY_AVERAGE'])\n",
    "y_la_wholesale = np.array(df['LA_PRICE_WHOLESALE_INDUSTRY_AVERAGE'])\n",
    "\n",
    "#Fitting a linear model to the above data\n",
    "\n",
    "#NORTH AMERICA\n",
    "na_internet_slope, na_internet_intercept = np.polyfit(x,y_na_internet,1) #1st degree polynomial\n",
    "na_wholesale_slope, na_wholesale_intercept = np.polyfit(x,y_na_wholesale,1)\n",
    "\n",
    "#EUROPE AFRICA\n",
    "eu_internet_slope, eu_internet_intercept = np.polyfit(x,y_eu_internet,1)\n",
    "eu_wholesale_slope, eu_wholesale_intercept = np.polyfit(x,y_eu_wholesale,1)\n",
    "\n",
    "#ASIA PACIFIC\n",
    "ap_internet_slope, ap_internet_intercept = np.polyfit(x,y_ap_internet,1)\n",
    "ap_wholesale_slope, ap_wholesale_intercept = np.polyfit(x,y_ap_wholesale,1)\n",
    "\n",
    "#LATIN AMERICA\n",
    "la_internet_slope, la_internet_intercept = np.polyfit(x,y_la_internet,1)\n",
    "la_wholesale_slope, la_wholesale_intercept = np.polyfit(x,y_la_wholesale,1)\n",
    "\n",
    "\n",
    "#NORTH AMERICA printed as y=mx+b \n",
    "print('NA Internet Price = '+ str(na_internet_slope) + 'x + ' + str(na_internet_intercept))\n",
    "print('NA Wholesale Price = '+ str(na_wholesale_slope) + 'x + ' + str(na_wholesale_intercept))\n",
    "\n",
    "#EUROPE AFRICA printed as y=mx+b \n",
    "print('EU Internet Price = '+ str(eu_internet_slope) + 'x + ' + str(eu_internet_intercept))\n",
    "print('EU Wholesale Price = '+ str(eu_wholesale_slope) + 'x + ' + str(eu_wholesale_intercept))\n",
    "\n",
    "#ASIA PACIFIC printed as y=mx+b \n",
    "print('AP Internet Price = '+ str(ap_internet_slope) + 'x + ' + str(ap_internet_intercept))\n",
    "print('AP Wholesale Price = '+ str(ap_wholesale_slope) + 'x + ' + str(ap_wholesale_intercept))\n",
    "\n",
    "#LATIN AMERICA printed as y=mx+b \n",
    "print('LA Internet Price = '+ str(la_internet_slope) + 'x + ' + str(la_internet_intercept))\n",
    "print('LA Wholesale Price = '+ str(la_wholesale_slope) + 'x + ' + str(la_wholesale_intercept))"
   ]
  },
  {
   "cell_type": "markdown",
   "metadata": {},
   "source": [
    "### North America Internet"
   ]
  },
  {
   "cell_type": "code",
   "execution_count": 47,
   "metadata": {
    "scrolled": true
   },
   "outputs": [
    {
     "name": "stdout",
     "output_type": "stream",
     "text": [
      "Year 16 predicted price: 98.31133333333335\n"
     ]
    },
    {
     "data": {
      "image/png": "[encoded data removed]",
      "text/plain": [
       "<Figure size 432x288 with 1 Axes>"
      ]
     },
     "metadata": {},
     "output_type": "display_data"
    }
   ],
   "source": [
    "#plot hypothetical slope and intercept from above data\n",
    "x_theor = np.array([10,predictionYear]) #for Year 10 through Prediction Year\n",
    "y_theor = na_internet_slope * x_theor + na_internet_intercept\n",
    "print('Year ' + str(predictionYear) +' predicted price: ' + str(na_internet_slope * predictionYear + na_internet_intercept))\n",
    "\n",
    "#plot the anscombe data and theoretical line\n",
    "_ = plt.plot(x,y_na_internet,marker='.', linestyle='none')\n",
    "_ = plt.plot(x_theor,y_theor)\n",
    "\n",
    "#label the axes\n",
    "plt.xlabel('Year')\n",
    "plt.ylabel('Price')\n",
    "plt.title('NA Internet')\n",
    "plt.show()"
   ]
  },
  {
   "cell_type": "markdown",
   "metadata": {},
   "source": [
    "### North America Wholesale"
   ]
  },
  {
   "cell_type": "code",
   "execution_count": 48,
   "metadata": {},
   "outputs": [
    {
     "name": "stdout",
     "output_type": "stream",
     "text": [
      "Year 16 predicted price: 67.95066666666668\n"
     ]
    },
    {
     "data": {
      "image/png": "[encoded data removed]",
      "text/plain": [
       "<Figure size 432x288 with 1 Axes>"
      ]
     },
     "metadata": {},
     "output_type": "display_data"
    }
   ],
   "source": [
    "x_theor = np.array([10,predictionYear])\n",
    "y_theor = na_wholesale_slope * x_theor + na_wholesale_intercept\n",
    "print('Year ' + str(predictionYear) +' predicted price: ' + str(na_wholesale_slope * predictionYear + na_wholesale_intercept))\n",
    "_ = plt.plot(x,y_na_wholesale,marker='.', linestyle='none')\n",
    "_ = plt.plot(x_theor,y_theor)\n",
    "plt.xlabel('Year')\n",
    "plt.ylabel('Price')\n",
    "plt.title('NA Wholesale')\n",
    "plt.show()"
   ]
  },
  {
   "cell_type": "markdown",
   "metadata": {},
   "source": [
    "### Europe Africa Internet"
   ]
  },
  {
   "cell_type": "code",
   "execution_count": 49,
   "metadata": {},
   "outputs": [
    {
     "name": "stdout",
     "output_type": "stream",
     "text": [
      "Year 16 predicted price: 109.51533333333337\n"
     ]
    },
    {
     "data": {
      "image/png": "[encoded data removed]",
      "text/plain": [
       "<Figure size 432x288 with 1 Axes>"
      ]
     },
     "metadata": {},
     "output_type": "display_data"
    }
   ],
   "source": [
    "x_theor = np.array([10,predictionYear])\n",
    "y_theor = eu_internet_slope * x_theor + eu_internet_intercept\n",
    "print('Year ' + str(predictionYear) +' predicted price: ' + str(eu_internet_slope * predictionYear + eu_internet_intercept))\n",
    "_ = plt.plot(x,y_eu_internet,marker='.', linestyle='none')\n",
    "_ = plt.plot(x_theor,y_theor)\n",
    "plt.xlabel('Year')\n",
    "plt.ylabel('Price')\n",
    "plt.title('EU Internet')\n",
    "plt.show()"
   ]
  },
  {
   "cell_type": "markdown",
   "metadata": {},
   "source": [
    "### Europe Africa Wholesale"
   ]
  },
  {
   "cell_type": "code",
   "execution_count": 50,
   "metadata": {},
   "outputs": [
    {
     "name": "stdout",
     "output_type": "stream",
     "text": [
      "Year 16 predicted price: 75.18400000000003\n"
     ]
    },
    {
     "data": {
      "image/png": "[encoded data removed]",
      "text/plain": [
       "<Figure size 432x288 with 1 Axes>"
      ]
     },
     "metadata": {},
     "output_type": "display_data"
    }
   ],
   "source": [
    "x_theor = np.array([10,predictionYear])\n",
    "y_theor = eu_wholesale_slope * x_theor + eu_wholesale_intercept\n",
    "print('Year ' + str(predictionYear) +' predicted price: ' + str(eu_wholesale_slope * predictionYear + eu_wholesale_intercept))\n",
    "_ = plt.plot(x,y_eu_wholesale,marker='.', linestyle='none')\n",
    "_ = plt.plot(x_theor,y_theor)\n",
    "plt.xlabel('Year')\n",
    "plt.ylabel('Price')\n",
    "plt.title('EU Wholesale')\n",
    "plt.show()"
   ]
  },
  {
   "cell_type": "markdown",
   "metadata": {},
   "source": [
    "### Asia Pacific Internet"
   ]
  },
  {
   "cell_type": "code",
   "execution_count": 51,
   "metadata": {},
   "outputs": [
    {
     "name": "stdout",
     "output_type": "stream",
     "text": [
      "Year 16 predicted price: 96.80733333333336\n"
     ]
    },
    {
     "data": {
      "image/png": "[encoded data removed]",
      "text/plain": [
       "<Figure size 432x288 with 1 Axes>"
      ]
     },
     "metadata": {},
     "output_type": "display_data"
    }
   ],
   "source": [
    "x_theor = np.array([10,predictionYear])\n",
    "y_theor = ap_internet_slope * x_theor + ap_internet_intercept\n",
    "print('Year ' + str(predictionYear) +' predicted price: ' + str(ap_internet_slope * predictionYear + ap_internet_intercept))\n",
    "_ = plt.plot(x,y_ap_internet,marker='.', linestyle='none')\n",
    "_ = plt.plot(x_theor,y_theor)\n",
    "plt.xlabel('Year')\n",
    "plt.ylabel('Price')\n",
    "plt.title('AP Internet')\n",
    "plt.show()"
   ]
  },
  {
   "cell_type": "markdown",
   "metadata": {},
   "source": [
    "### Asia Pacific Wholesale"
   ]
  },
  {
   "cell_type": "code",
   "execution_count": 52,
   "metadata": {},
   "outputs": [
    {
     "name": "stdout",
     "output_type": "stream",
     "text": [
      "Year 16 predicted price: 67.40200000000002\n"
     ]
    },
    {
     "data": {
      "image/png": "[encoded data removed]",
      "text/plain": [
       "<Figure size 432x288 with 1 Axes>"
      ]
     },
     "metadata": {},
     "output_type": "display_data"
    }
   ],
   "source": [
    "x_theor = np.array([10,predictionYear])\n",
    "y_theor = ap_wholesale_slope * x_theor + ap_wholesale_intercept\n",
    "print('Year ' + str(predictionYear) +' predicted price: ' + str(ap_wholesale_slope * predictionYear + ap_wholesale_intercept))\n",
    "_ = plt.plot(x,y_ap_wholesale,marker='.', linestyle='none')\n",
    "_ = plt.plot(x_theor,y_theor)\n",
    "plt.xlabel('Year')\n",
    "plt.ylabel('Price')\n",
    "plt.title('AP Wholesale')\n",
    "plt.show()"
   ]
  },
  {
   "cell_type": "markdown",
   "metadata": {},
   "source": [
    "### Latin America Internet"
   ]
  },
  {
   "cell_type": "code",
   "execution_count": 53,
   "metadata": {},
   "outputs": [
    {
     "name": "stdout",
     "output_type": "stream",
     "text": [
      "Year 16 predicted price: 103.73200000000003\n"
     ]
    },
    {
     "data": {
      "image/png": "[encoded data removed]",
      "text/plain": [
       "<Figure size 432x288 with 1 Axes>"
      ]
     },
     "metadata": {},
     "output_type": "display_data"
    }
   ],
   "source": [
    "x_theor = np.array([10,predictionYear])\n",
    "y_theor = la_internet_slope * x_theor + la_internet_intercept\n",
    "print('Year ' + str(predictionYear) +' predicted price: ' + str(la_internet_slope * predictionYear + la_internet_intercept))\n",
    "_ = plt.plot(x,y_la_internet,marker='.', linestyle='none')\n",
    "_ = plt.plot(x_theor,y_theor)\n",
    "plt.xlabel('Year')\n",
    "plt.ylabel('Price')\n",
    "plt.title('LA Internet')\n",
    "plt.show()"
   ]
  },
  {
   "cell_type": "markdown",
   "metadata": {},
   "source": [
    "### Latin America Wholesale"
   ]
  },
  {
   "cell_type": "code",
   "execution_count": 45,
   "metadata": {},
   "outputs": [
    {
     "name": "stdout",
     "output_type": "stream",
     "text": [
      "Year 16 predicted price: 72.08933333333336\n"
     ]
    },
    {
     "data": {
      "image/png": "[encoded data removed]",
      "text/plain": [
       "<Figure size 432x288 with 1 Axes>"
      ]
     },
     "metadata": {},
     "output_type": "display_data"
    }
   ],
   "source": [
    "x_theor = np.array([10,predictionYear])\n",
    "y_theor = la_wholesale_slope * x_theor + la_wholesale_intercept\n",
    "print('Year ' + str(predictionYear) +' predicted price: ' + str(la_wholesale_slope * predictionYear + la_wholesale_intercept))\n",
    "_ = plt.plot(x,y_la_wholesale,marker='.', linestyle='none')\n",
    "_ = plt.plot(x_theor,y_theor)\n",
    "plt.xlabel('Year')\n",
    "plt.ylabel('Price')\n",
    "plt.title('LA Wholesale')\n",
    "plt.show()"
   ]
  }
 ],
 "metadata": {
  "kernelspec": {
   "display_name": "Python 3",
   "language": "python",
   "name": "python3"
  },
  "language_info": {
   "codemirror_mode": {
    "name": "ipython",
    "version": 3
   },
   "file_extension": ".py",
   "mimetype": "text/x-python",
   "name": "python",
   "nbconvert_exporter": "python",
   "pygments_lexer": "ipython3",
   "version": "3.6.5"
  }
 },
 "nbformat": 4,
 "nbformat_minor": 2
}
